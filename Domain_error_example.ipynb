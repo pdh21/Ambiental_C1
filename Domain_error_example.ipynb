{
 "cells": [
  {
   "cell_type": "markdown",
   "metadata": {},
   "source": [
    "# Import modules"
   ]
  },
  {
   "cell_type": "code",
   "execution_count": 1,
   "metadata": {
    "collapsed": true
   },
   "outputs": [],
   "source": [
    "import gdal\n",
    "import shapefile\n",
    "from osgeo import osr\n",
    "import glob\n",
    "from scipy import interpolate\n",
    "from shapely.geometry import Point\n",
    "import pandas as pd\n",
    "import geopandas as gpd\n",
    "from geopandas import GeoSeries, GeoDataFrame\n",
    "import numpy as np"
   ]
  },
  {
   "cell_type": "code",
   "execution_count": 2,
   "metadata": {
    "collapsed": true
   },
   "outputs": [],
   "source": [
    "floodmap=gdal.Open('./data/Ambiental_DataJavelin_FloodMap_QA/Domain_Errors/CombinedOutput_FloodMap/NOR_Fluvial_100yr.tif')"
   ]
  },
  {
   "cell_type": "code",
   "execution_count": 3,
   "metadata": {
    "collapsed": true
   },
   "outputs": [],
   "source": [
    "arr = floodmap.ReadAsArray()"
   ]
  },
  {
   "cell_type": "code",
   "execution_count": 4,
   "metadata": {},
   "outputs": [],
   "source": [
    "proj_wkt = floodmap.GetProjection()\n"
   ]
  },
  {
   "cell_type": "code",
   "execution_count": 5,
   "metadata": {},
   "outputs": [
    {
     "data": {
      "text/plain": [
       "0"
      ]
     },
     "execution_count": 5,
     "metadata": {},
     "output_type": "execute_result"
    }
   ],
   "source": [
    "proj = osr.SpatialReference()\n",
    "proj.ImportFromWkt(proj_wkt)\n"
   ]
  },
  {
   "cell_type": "code",
   "execution_count": 6,
   "metadata": {
    "collapsed": true
   },
   "outputs": [],
   "source": [
    "geo_transform = floodmap.GetGeoTransform()"
   ]
  },
  {
   "cell_type": "code",
   "execution_count": 7,
   "metadata": {},
   "outputs": [
    {
     "data": {
      "text/plain": [
       "(23712, 29062)"
      ]
     },
     "execution_count": 7,
     "metadata": {},
     "output_type": "execute_result"
    }
   ],
   "source": [
    "origin_x = geo_transform[0]\n",
    "origin_y = geo_transform[3]\n",
    "pixel_width = geo_transform[1]\n",
    "pixel_height = geo_transform[5]\n",
    "n_cols = floodmap.RasterXSize\n",
    "n_rows = floodmap.RasterYSize\n",
    "n_cols, n_rows"
   ]
  },
  {
   "cell_type": "code",
   "execution_count": 8,
   "metadata": {},
   "outputs": [
    {
     "data": {
      "text/plain": [
       "'Float32'"
      ]
     },
     "execution_count": 8,
     "metadata": {},
     "output_type": "execute_result"
    }
   ],
   "source": [
    "band = floodmap.GetRasterBand(1)\n",
    "gdal.GetDataTypeName(band.DataType)"
   ]
  },
  {
   "cell_type": "code",
   "execution_count": 9,
   "metadata": {
    "collapsed": true
   },
   "outputs": [],
   "source": [
    "extent_lonlat = (\n",
    "    origin_x, \n",
    "    origin_x + (pixel_width * floodmap.RasterXSize),\n",
    "    origin_y + (pixel_height * floodmap.RasterYSize),\n",
    "    origin_y\n",
    ")"
   ]
  },
  {
   "cell_type": "markdown",
   "metadata": {},
   "source": [
    "## Idea 3\n",
    "* Read in shapefile\n",
    "* Match points and tangent to image\n",
    "* plot difference across boundary"
   ]
  },
  {
   "cell_type": "code",
   "execution_count": 10,
   "metadata": {
    "collapsed": true
   },
   "outputs": [],
   "source": [
    "def find_nearest(array, value):\n",
    "    ''' Find nearest value is an array '''\n",
    "    idx=np.empty((value.size))\n",
    "    for i in range(0,value.size):\n",
    "        idx[i] = (np.abs(array-value[i])).argmin()\n",
    "    return idx.astype('int')"
   ]
  },
  {
   "cell_type": "code",
   "execution_count": null,
   "metadata": {
    "collapsed": true
   },
   "outputs": [],
   "source": []
  },
  {
   "cell_type": "code",
   "execution_count": 11,
   "metadata": {
    "collapsed": true
   },
   "outputs": [],
   "source": [
    "sfiles=glob.glob('./data/Ambiental_DataJavelin_FloodMap_QA/Domain_Errors/Domains/*.shp')"
   ]
  },
  {
   "cell_type": "code",
   "execution_count": 16,
   "metadata": {},
   "outputs": [
    {
     "name": "stderr",
     "output_type": "stream",
     "text": [
      "/Users/pdh21/anaconda3/envs/new/lib/python3.6/site-packages/ipykernel/__main__.py:49: RuntimeWarning: divide by zero encountered in double_scalars\n"
     ]
    },
    {
     "name": "stdout",
     "output_type": "stream",
     "text": [
      "Domain  NOR_1000_1_Domain.shp 0 5151\n",
      "Domain  NOR_1001_1_Domain.shp 1 5151\n",
      "Domain  NOR_1002_1_Domain.shp 2 5151\n",
      "Domain  NOR_1003_1_Domain.shp 3 5151\n",
      "Domain  NOR_1004_1_Domain.shp 4 5151\n",
      "Domain  NOR_1005_1_Domain.shp 5 5151\n",
      "Domain  NOR_1006_1_Domain.shp 6 5151\n",
      "Domain  NOR_1007_1_Domain.shp 7 5151\n",
      "Domain  NOR_1008_1_Domain.shp 8 5151\n",
      "Domain  NOR_1009_1_Domain.shp 9 5151\n",
      "Domain  NOR_100_1_Domain.shp 10 5151\n",
      "Domain  NOR_1010_1_Domain.shp 11 5151\n",
      "Domain  NOR_1011_1_Domain.shp 12 5151\n",
      "Domain  NOR_1012_1_Domain.shp 13 5151\n",
      "Domain  NOR_1013_1_Domain.shp 14 5151\n",
      "Domain  NOR_1014_1_Domain.shp 15 5151\n",
      "Domain  NOR_1015_1_Domain.shp 16 5151\n",
      "Domain  NOR_1016_1_Domain.shp 17 5151\n",
      "Domain  NOR_1017_1_Domain.shp 18 5151\n",
      "Domain  NOR_1018_1_Domain.shp 19 5151\n",
      "Domain  NOR_1019_1_Domain.shp 20 5151\n",
      "Domain  NOR_101_1_Domain.shp 21 5151\n",
      "Domain  NOR_1020_1_Domain.shp 22 5151\n",
      "Domain  NOR_1021_1_Domain.shp 23 5151\n",
      "Domain  NOR_1022_1_Domain.shp 24 5151\n",
      "Domain  NOR_1023_1_Domain.shp 25 5151\n",
      "Domain  NOR_1024_1_Domain.shp 26 5151\n",
      "Domain  NOR_1025_1_Domain.shp 27 5151\n",
      "Domain  NOR_1026_1_Domain.shp 28 5151\n",
      "Domain  NOR_1027_1_Domain.shp 29 5151\n",
      "Domain  NOR_1028_1_Domain.shp 30 5151\n",
      "Domain  NOR_1029_1_Domain.shp 31 5151\n",
      "Domain  NOR_102_1_Domain.shp 32 5151\n",
      "Domain  NOR_1030_1_Domain.shp 33 5151\n",
      "Domain  NOR_1031_1_Domain.shp 34 5151\n",
      "Domain  NOR_1032_1_Domain.shp 35 5151\n",
      "Domain  NOR_1033_1_Domain.shp 36 5151\n",
      "Domain  NOR_1034_1_Domain.shp 37 5151\n",
      "Domain  NOR_1035_1_Domain.shp 38 5151\n",
      "Domain  NOR_1036_1_Domain.shp 39 5151\n",
      "Domain  NOR_1037_1_Domain.shp 40 5151\n",
      "Domain  NOR_1038_1_Domain.shp 41 5151\n",
      "Domain  NOR_1039_1_Domain.shp 42 5151\n",
      "Domain  NOR_103_1_Domain.shp 43 5151\n",
      "Domain  NOR_1040_1_Domain.shp 44 5151\n",
      "Domain  NOR_1041_1_Domain.shp 45 5151\n",
      "Domain  NOR_1042_1_Domain.shp 46 5151\n",
      "Domain  NOR_1043_1_Domain.shp 47 5151\n",
      "Domain  NOR_1044_1_Domain.shp 48 5151\n",
      "Domain  NOR_1045_1_Domain.shp 49 5151\n",
      "Domain  NOR_1046_1_Domain.shp 50 5151\n",
      "Domain  NOR_1047_1_Domain.shp 51 5151\n",
      "Domain  NOR_1048_1_Domain.shp 52 5151\n",
      "Domain  NOR_1049_1_Domain.shp 53 5151\n",
      "Domain  NOR_104_1_Domain.shp 54 5151\n",
      "Domain  NOR_1050_1_Domain.shp 55 5151\n",
      "Domain  NOR_1051_1_Domain.shp 56 5151\n",
      "Domain  NOR_1052_1_Domain.shp 57 5151\n",
      "Domain  NOR_1053_1_Domain.shp 58 5151\n",
      "Domain  NOR_1054_1_Domain.shp 59 5151\n",
      "Domain  NOR_1055_1_Domain.shp 60 5151\n",
      "Domain  NOR_1056_1_Domain.shp 61 5151\n",
      "Domain  NOR_1057_1_Domain.shp 62 5151\n",
      "Domain  NOR_1058_1_Domain.shp 63 5151\n",
      "Domain  NOR_1059_1_Domain.shp 64 5151\n",
      "Domain  NOR_105_1_Domain.shp 65 5151\n",
      "Domain  NOR_1060_1_Domain.shp 66 5151\n",
      "Domain  NOR_1061_1_Domain.shp 67 5151\n",
      "Domain  NOR_1062_1_Domain.shp 68 5151\n",
      "Domain  NOR_1063_1_Domain.shp 69 5151\n",
      "Domain  NOR_1064_1_Domain.shp 70 5151\n",
      "Domain  NOR_1065_1_Domain.shp 71 5151\n",
      "Domain  NOR_1066_1_Domain.shp 72 5151\n",
      "Domain  NOR_1067_1_Domain.shp 73 5151\n",
      "Domain  NOR_1068_1_Domain.shp 74 5151\n",
      "Domain  NOR_1069_1_Domain.shp 75 5151\n",
      "Domain  NOR_106_1_Domain.shp 76 5151\n",
      "Domain  NOR_1070_1_Domain.shp 77 5151\n",
      "Domain  NOR_1071_1_Domain.shp 78 5151\n",
      "Domain  NOR_1072_1_Domain.shp 79 5151\n",
      "Domain  NOR_1073_1_Domain.shp 80 5151\n",
      "Domain  NOR_1074_1_Domain.shp 81 5151\n",
      "Domain  NOR_1075_1_Domain.shp 82 5151\n",
      "Domain  NOR_1076_1_Domain.shp 83 5151\n",
      "Domain  NOR_1077_1_Domain.shp 84 5151\n",
      "Domain  NOR_1078_1_Domain.shp 85 5151\n",
      "Domain  NOR_1079_1_Domain.shp 86 5151\n",
      "Domain  NOR_107_1_Domain.shp 87 5151\n",
      "Domain  NOR_1080_1_Domain.shp 88 5151\n",
      "Domain  NOR_1081_1_Domain.shp 89 5151\n",
      "Domain  NOR_1082_1_Domain.shp 90 5151\n",
      "Domain  NOR_1083_1_Domain.shp 91 5151\n",
      "Domain  NOR_1084_1_Domain.shp 92 5151\n",
      "Domain  NOR_1085_1_Domain.shp 93 5151\n",
      "Domain  NOR_1086_1_Domain.shp 94 5151\n",
      "Domain  NOR_1087_1_Domain.shp 95 5151\n",
      "Domain  NOR_1088_1_Domain.shp 96 5151\n",
      "Domain  NOR_1089_1_Domain.shp 97 5151\n",
      "Domain  NOR_108_1_Domain.shp 98 5151\n",
      "Domain  NOR_1090_1_Domain.shp 99 5151\n"
     ]
    }
   ],
   "source": [
    "df=[]\n",
    "for ii, s in enumerate(sfiles[0:100]):\n",
    "    sf = shapefile.Reader(s)\n",
    "    sh_points=np.array(sf.shapes()[0].points)\n",
    "    xpix=np.arange(extent_lonlat[0],extent_lonlat[1],pixel_width)\n",
    "    ypix=np.arange(extent_lonlat[3],extent_lonlat[2],pixel_height)\n",
    "    \n",
    "# loop over shape points\n",
    "    points=[]\n",
    "    pix_dist=np.array([3,4])\n",
    "\n",
    "    for i in range(0,sh_points.shape[0]-1):        \n",
    "        #need to interpolate between points in shapefile\n",
    "        fx = interpolate.interp1d(sh_points[i:i+2,0],sh_points[i:i+2,1],kind='slinear',fill_value='extrapolate')\n",
    "        if sh_points[i,0]<sh_points[i+1,0]:\n",
    "            xnew=np.arange(sh_points[i,0],sh_points[i+1,0],pixel_width)\n",
    "        else:\n",
    "            xnew=np.arange(sh_points[i,0],sh_points[i+1,0],-pixel_width)\n",
    "        ynew=fx(xnew)\n",
    "        fy=interpolate.interp1d(sh_points[i:i+2,1],sh_points[i:i+2,0],kind='slinear',fill_value='extrapolate')\n",
    "        if sh_points[i,1]>sh_points[i+1,1]:\n",
    "            ynew_2=np.arange(sh_points[i,1],sh_points[i+1,1],pixel_height)\n",
    "        else:\n",
    "            ynew_2=np.arange(sh_points[i,1],sh_points[i+1,1],-pixel_height)\n",
    "        xnew_2=fy(ynew_2)\n",
    "        \n",
    "        for j in range(xnew.shape[0]-1):\n",
    "            try:\n",
    "                #calculate difference in x and y for tangent\n",
    "                dy=ynew[j+1]-ynew[j]\n",
    "                dx=xnew[j+1]-xnew[j]\n",
    "                angle=0.5*np.pi-np.arctan(dy/dx)\n",
    "                t_x=pix_dist*pixel_width*np.cos(angle)#ideally should be 0.5*pixel but more stable if 1.1\n",
    "                t_y=pix_dist*pixel_height*np.sin(angle)\n",
    "                #inner value\n",
    "                x_in=find_nearest(xpix,xnew[j]+t_x)\n",
    "                y_in=find_nearest(ypix,ynew[j]+t_y)\n",
    "                #outer value\n",
    "                x_out=find_nearest(xpix,xnew[j]-t_x)\n",
    "                y_out=find_nearest(ypix,ynew[j]-t_y)\n",
    "            \n",
    "                points.append([np.abs(np.max(arr[y_in,x_in])-np.max(arr[y_out,x_out])),xnew[j],ynew[j]])\n",
    "            except(IndexError):\n",
    "                print('issue')\n",
    "        for j in range(xnew_2.shape[0]-1):\n",
    "            #calculate difference in x and y for tangent\n",
    "            dy=ynew_2[j+1]-ynew_2[j]\n",
    "            dx=xnew_2[j+1]-xnew_2[j]\n",
    "            angle=0.5*np.pi-np.arctan(dy/dx)\n",
    "            t_x=pix_dist*pixel_width*np.cos(angle)#ideally should be 0.5*pixel but more stable if 1.1\n",
    "            t_y=pix_dist*pixel_height*np.sin(angle)\n",
    "            #inner value\n",
    "            x_in=find_nearest(xpix,xnew_2[j]+t_x)\n",
    "            y_in=find_nearest(ypix,ynew_2[j]+t_y)\n",
    "        \n",
    "            #outer value\n",
    "            x_out=find_nearest(xpix,xnew_2[j]-t_x)\n",
    "            y_out=find_nearest(ypix,ynew_2[j]-t_y)\n",
    "            points.append([np.abs(np.max(arr[y_in,x_in])-np.max(arr[y_out,x_out])),xnew_2[j],ynew_2[j]])\n",
    "    points=np.array(points)\n",
    "    ind=points[:,0]>100.0\n",
    "    data = {'Domain': s.split('/')[-1] * ind.sum(),\n",
    "        'lat': points[ind,2],\n",
    "        'lon': points[ind,1]}\n",
    "\n",
    "    df.append(pd.DataFrame(data))\n",
    "    print('Domain ',s.split('/')[-1], ii,len(sfiles))\n",
    "alldf = pd.concat(df)\n",
    "geometry = [Point(xy) for xy in zip(alldf['lon'],alldf['lat'])]\n",
    "gdf = GeoDataFrame(alldf, geometry=geometry)\n",
    "gdf.to_file(filename='./all_points_pixspread')"
   ]
  }
 ],
 "metadata": {
  "kernelspec": {
   "display_name": "Python [conda env:new]",
   "language": "python",
   "name": "conda-env-new-py"
  },
  "language_info": {
   "codemirror_mode": {
    "name": "ipython",
    "version": 3
   },
   "file_extension": ".py",
   "mimetype": "text/x-python",
   "name": "python",
   "nbconvert_exporter": "python",
   "pygments_lexer": "ipython3",
   "version": "3.6.0"
  }
 },
 "nbformat": 4,
 "nbformat_minor": 2
}
