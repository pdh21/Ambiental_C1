{
 "cells": [
  {
   "cell_type": "markdown",
   "metadata": {},
   "source": [
    "# Import modules"
   ]
  },
  {
   "cell_type": "code",
   "execution_count": 1,
   "metadata": {
    "collapsed": true
   },
   "outputs": [],
   "source": [
    "import gdal\n",
    "import shapefile\n",
    "from osgeo import osr\n",
    "import glob\n",
    "from scipy import interpolate\n",
    "from shapely.geometry import Point\n",
    "import pandas as pd\n",
    "import geopandas as gpd\n",
    "from geopandas import GeoSeries, GeoDataFrame\n",
    "import numpy as np\n",
    "from sklearn.cluster import DBSCAN\n",
    "from sklearn.preprocessing import StandardScaler"
   ]
  },
  {
   "cell_type": "code",
   "execution_count": 2,
   "metadata": {
    "collapsed": true
   },
   "outputs": [],
   "source": [
    "floodmap=gdal.Open('./data/Ambiental_DataJavelin_FloodMap_QA/Domain_Errors/CombinedOutput_FloodMap/NOR_Fluvial_100yr.tif')"
   ]
  },
  {
   "cell_type": "code",
   "execution_count": 3,
   "metadata": {
    "collapsed": true
   },
   "outputs": [],
   "source": [
    "arr = floodmap.ReadAsArray()"
   ]
  },
  {
   "cell_type": "code",
   "execution_count": 4,
   "metadata": {},
   "outputs": [],
   "source": [
    "proj_wkt = floodmap.GetProjection()\n"
   ]
  },
  {
   "cell_type": "code",
   "execution_count": 5,
   "metadata": {},
   "outputs": [
    {
     "data": {
      "text/plain": [
       "0"
      ]
     },
     "execution_count": 5,
     "metadata": {},
     "output_type": "execute_result"
    }
   ],
   "source": [
    "proj = osr.SpatialReference()\n",
    "proj.ImportFromWkt(proj_wkt)\n"
   ]
  },
  {
   "cell_type": "code",
   "execution_count": 6,
   "metadata": {
    "collapsed": true
   },
   "outputs": [],
   "source": [
    "geo_transform = floodmap.GetGeoTransform()"
   ]
  },
  {
   "cell_type": "code",
   "execution_count": 7,
   "metadata": {},
   "outputs": [
    {
     "data": {
      "text/plain": [
       "(23712, 29062)"
      ]
     },
     "execution_count": 7,
     "metadata": {},
     "output_type": "execute_result"
    }
   ],
   "source": [
    "origin_x = geo_transform[0]\n",
    "origin_y = geo_transform[3]\n",
    "pixel_width = geo_transform[1]\n",
    "pixel_height = geo_transform[5]\n",
    "n_cols = floodmap.RasterXSize\n",
    "n_rows = floodmap.RasterYSize\n",
    "n_cols, n_rows"
   ]
  },
  {
   "cell_type": "code",
   "execution_count": 8,
   "metadata": {},
   "outputs": [
    {
     "data": {
      "text/plain": [
       "'Float32'"
      ]
     },
     "execution_count": 8,
     "metadata": {},
     "output_type": "execute_result"
    }
   ],
   "source": [
    "band = floodmap.GetRasterBand(1)\n",
    "gdal.GetDataTypeName(band.DataType)"
   ]
  },
  {
   "cell_type": "code",
   "execution_count": 9,
   "metadata": {
    "collapsed": true
   },
   "outputs": [],
   "source": [
    "extent_lonlat = (\n",
    "    origin_x, \n",
    "    origin_x + (pixel_width * floodmap.RasterXSize),\n",
    "    origin_y + (pixel_height * floodmap.RasterYSize),\n",
    "    origin_y\n",
    ")"
   ]
  },
  {
   "cell_type": "markdown",
   "metadata": {},
   "source": [
    "## Idea 3\n",
    "* Read in shapefile\n",
    "* Match points and tangent to image\n",
    "* plot difference across boundary"
   ]
  },
  {
   "cell_type": "code",
   "execution_count": 10,
   "metadata": {
    "collapsed": true
   },
   "outputs": [],
   "source": [
    "def find_nearest(array, value):\n",
    "    ''' Find nearest value is an array '''\n",
    "    idx=np.empty((value.size))\n",
    "    for i in range(0,value.size):\n",
    "        idx[i] = (np.abs(array-value[i])).argmin()\n",
    "    return idx.astype('int')"
   ]
  },
  {
   "cell_type": "code",
   "execution_count": null,
   "metadata": {
    "collapsed": true
   },
   "outputs": [],
   "source": []
  },
  {
   "cell_type": "code",
   "execution_count": 29,
   "metadata": {
    "collapsed": true
   },
   "outputs": [],
   "source": [
    "sfiles=glob.glob('./data/Ambiental_DataJavelin_FloodMap_QA/Domain_Errors/Domains/*.shp')"
   ]
  },
  {
   "cell_type": "code",
   "execution_count": null,
   "metadata": {},
   "outputs": [
    {
     "name": "stderr",
     "output_type": "stream",
     "text": [
      "/Users/pdh21/anaconda3/envs/new/lib/python3.6/site-packages/ipykernel/__main__.py:51: RuntimeWarning: divide by zero encountered in double_scalars\n",
      "/Users/pdh21/anaconda3/envs/new/lib/python3.6/site-packages/ipykernel/__main__.py:61: RuntimeWarning: invalid value encountered in true_divide\n",
      "/Users/pdh21/anaconda3/envs/new/lib/python3.6/site-packages/ipykernel/__main__.py:61: RuntimeWarning: divide by zero encountered in true_divide\n"
     ]
    },
    {
     "name": "stdout",
     "output_type": "stream",
     "text": [
      "Domain  NOR_1000_1_Domain.shp 0 5151\n"
     ]
    },
    {
     "name": "stderr",
     "output_type": "stream",
     "text": [
      "/Users/pdh21/anaconda3/envs/new/lib/python3.6/site-packages/ipykernel/__main__.py:51: RuntimeWarning: divide by zero encountered in double_scalars\n",
      "/Users/pdh21/anaconda3/envs/new/lib/python3.6/site-packages/ipykernel/__main__.py:61: RuntimeWarning: invalid value encountered in true_divide\n"
     ]
    },
    {
     "name": "stdout",
     "output_type": "stream",
     "text": [
      "Domain  NOR_1001_1_Domain.shp 1 5151\n",
      "Domain  NOR_1002_1_Domain.shp 2 5151\n"
     ]
    },
    {
     "name": "stderr",
     "output_type": "stream",
     "text": [
      "/Users/pdh21/anaconda3/envs/new/lib/python3.6/site-packages/ipykernel/__main__.py:51: RuntimeWarning: divide by zero encountered in double_scalars\n",
      "/Users/pdh21/anaconda3/envs/new/lib/python3.6/site-packages/ipykernel/__main__.py:61: RuntimeWarning: invalid value encountered in true_divide\n"
     ]
    },
    {
     "name": "stdout",
     "output_type": "stream",
     "text": [
      "Domain  NOR_1003_1_Domain.shp 3 5151\n",
      "Domain  NOR_1004_1_Domain.shp 4 5151\n",
      "Domain  NOR_1005_1_Domain.shp 5 5151\n"
     ]
    },
    {
     "name": "stderr",
     "output_type": "stream",
     "text": [
      "/Users/pdh21/anaconda3/envs/new/lib/python3.6/site-packages/ipykernel/__main__.py:51: RuntimeWarning: divide by zero encountered in double_scalars\n",
      "/Users/pdh21/anaconda3/envs/new/lib/python3.6/site-packages/ipykernel/__main__.py:61: RuntimeWarning: invalid value encountered in true_divide\n"
     ]
    },
    {
     "name": "stdout",
     "output_type": "stream",
     "text": [
      "Domain  NOR_1006_1_Domain.shp 6 5151\n"
     ]
    },
    {
     "name": "stderr",
     "output_type": "stream",
     "text": [
      "/Users/pdh21/anaconda3/envs/new/lib/python3.6/site-packages/ipykernel/__main__.py:51: RuntimeWarning: divide by zero encountered in double_scalars\n",
      "/Users/pdh21/anaconda3/envs/new/lib/python3.6/site-packages/ipykernel/__main__.py:61: RuntimeWarning: invalid value encountered in true_divide\n"
     ]
    },
    {
     "name": "stdout",
     "output_type": "stream",
     "text": [
      "Domain  NOR_1007_1_Domain.shp 7 5151\n"
     ]
    },
    {
     "name": "stderr",
     "output_type": "stream",
     "text": [
      "/Users/pdh21/anaconda3/envs/new/lib/python3.6/site-packages/ipykernel/__main__.py:51: RuntimeWarning: divide by zero encountered in double_scalars\n",
      "/Users/pdh21/anaconda3/envs/new/lib/python3.6/site-packages/ipykernel/__main__.py:61: RuntimeWarning: invalid value encountered in true_divide\n"
     ]
    },
    {
     "name": "stdout",
     "output_type": "stream",
     "text": [
      "Domain  NOR_1008_1_Domain.shp 8 5151\n",
      "Domain  NOR_1009_1_Domain.shp 9 5151\n",
      "Domain  NOR_100_1_Domain.shp 10 5151\n",
      "Domain  NOR_1010_1_Domain.shp 11 5151\n",
      "Domain  NOR_1011_1_Domain.shp 12 5151\n",
      "Domain  NOR_1012_1_Domain.shp 13 5151\n",
      "Domain  NOR_1013_1_Domain.shp 14 5151\n",
      "Domain  NOR_1014_1_Domain.shp 15 5151\n",
      "Domain  NOR_1015_1_Domain.shp 16 5151\n"
     ]
    },
    {
     "name": "stderr",
     "output_type": "stream",
     "text": [
      "/Users/pdh21/anaconda3/envs/new/lib/python3.6/site-packages/ipykernel/__main__.py:51: RuntimeWarning: divide by zero encountered in double_scalars\n",
      "/Users/pdh21/anaconda3/envs/new/lib/python3.6/site-packages/ipykernel/__main__.py:61: RuntimeWarning: invalid value encountered in true_divide\n"
     ]
    },
    {
     "name": "stdout",
     "output_type": "stream",
     "text": [
      "Domain  NOR_1016_1_Domain.shp 17 5151\n"
     ]
    },
    {
     "name": "stderr",
     "output_type": "stream",
     "text": [
      "/Users/pdh21/anaconda3/envs/new/lib/python3.6/site-packages/ipykernel/__main__.py:51: RuntimeWarning: divide by zero encountered in double_scalars\n",
      "/Users/pdh21/anaconda3/envs/new/lib/python3.6/site-packages/ipykernel/__main__.py:61: RuntimeWarning: invalid value encountered in true_divide\n"
     ]
    },
    {
     "name": "stdout",
     "output_type": "stream",
     "text": [
      "Domain  NOR_1017_1_Domain.shp 18 5151\n"
     ]
    },
    {
     "name": "stderr",
     "output_type": "stream",
     "text": [
      "/Users/pdh21/anaconda3/envs/new/lib/python3.6/site-packages/ipykernel/__main__.py:51: RuntimeWarning: divide by zero encountered in double_scalars\n",
      "/Users/pdh21/anaconda3/envs/new/lib/python3.6/site-packages/ipykernel/__main__.py:61: RuntimeWarning: invalid value encountered in true_divide\n"
     ]
    },
    {
     "name": "stdout",
     "output_type": "stream",
     "text": [
      "Domain  NOR_1018_1_Domain.shp 19 5151\n"
     ]
    },
    {
     "name": "stderr",
     "output_type": "stream",
     "text": [
      "/Users/pdh21/anaconda3/envs/new/lib/python3.6/site-packages/ipykernel/__main__.py:51: RuntimeWarning: divide by zero encountered in double_scalars\n",
      "/Users/pdh21/anaconda3/envs/new/lib/python3.6/site-packages/ipykernel/__main__.py:61: RuntimeWarning: invalid value encountered in true_divide\n"
     ]
    },
    {
     "name": "stdout",
     "output_type": "stream",
     "text": [
      "Domain  NOR_1019_1_Domain.shp 20 5151\n"
     ]
    },
    {
     "name": "stderr",
     "output_type": "stream",
     "text": [
      "/Users/pdh21/anaconda3/envs/new/lib/python3.6/site-packages/ipykernel/__main__.py:51: RuntimeWarning: divide by zero encountered in double_scalars\n",
      "/Users/pdh21/anaconda3/envs/new/lib/python3.6/site-packages/ipykernel/__main__.py:61: RuntimeWarning: invalid value encountered in true_divide\n",
      "/Users/pdh21/anaconda3/envs/new/lib/python3.6/site-packages/ipykernel/__main__.py:61: RuntimeWarning: divide by zero encountered in true_divide\n"
     ]
    },
    {
     "name": "stdout",
     "output_type": "stream",
     "text": [
      "Domain  NOR_101_1_Domain.shp 21 5151\n"
     ]
    },
    {
     "name": "stderr",
     "output_type": "stream",
     "text": [
      "/Users/pdh21/anaconda3/envs/new/lib/python3.6/site-packages/ipykernel/__main__.py:51: RuntimeWarning: divide by zero encountered in double_scalars\n",
      "/Users/pdh21/anaconda3/envs/new/lib/python3.6/site-packages/ipykernel/__main__.py:61: RuntimeWarning: divide by zero encountered in true_divide\n",
      "/Users/pdh21/anaconda3/envs/new/lib/python3.6/site-packages/ipykernel/__main__.py:61: RuntimeWarning: invalid value encountered in true_divide\n"
     ]
    },
    {
     "name": "stdout",
     "output_type": "stream",
     "text": [
      "Domain  NOR_1020_1_Domain.shp 22 5151\n"
     ]
    },
    {
     "name": "stderr",
     "output_type": "stream",
     "text": [
      "/Users/pdh21/anaconda3/envs/new/lib/python3.6/site-packages/ipykernel/__main__.py:51: RuntimeWarning: divide by zero encountered in double_scalars\n",
      "/Users/pdh21/anaconda3/envs/new/lib/python3.6/site-packages/ipykernel/__main__.py:61: RuntimeWarning: invalid value encountered in true_divide\n"
     ]
    },
    {
     "name": "stdout",
     "output_type": "stream",
     "text": [
      "Domain  NOR_1021_1_Domain.shp 23 5151\n"
     ]
    },
    {
     "name": "stderr",
     "output_type": "stream",
     "text": [
      "/Users/pdh21/anaconda3/envs/new/lib/python3.6/site-packages/ipykernel/__main__.py:51: RuntimeWarning: divide by zero encountered in double_scalars\n",
      "/Users/pdh21/anaconda3/envs/new/lib/python3.6/site-packages/ipykernel/__main__.py:61: RuntimeWarning: invalid value encountered in true_divide\n"
     ]
    },
    {
     "name": "stdout",
     "output_type": "stream",
     "text": [
      "Domain  NOR_1022_1_Domain.shp 24 5151\n"
     ]
    },
    {
     "name": "stderr",
     "output_type": "stream",
     "text": [
      "/Users/pdh21/anaconda3/envs/new/lib/python3.6/site-packages/ipykernel/__main__.py:51: RuntimeWarning: divide by zero encountered in double_scalars\n",
      "/Users/pdh21/anaconda3/envs/new/lib/python3.6/site-packages/ipykernel/__main__.py:61: RuntimeWarning: invalid value encountered in true_divide\n"
     ]
    },
    {
     "name": "stdout",
     "output_type": "stream",
     "text": [
      "Domain  NOR_1023_1_Domain.shp 25 5151\n",
      "Domain  NOR_1024_1_Domain.shp 26 5151\n"
     ]
    },
    {
     "name": "stderr",
     "output_type": "stream",
     "text": [
      "/Users/pdh21/anaconda3/envs/new/lib/python3.6/site-packages/ipykernel/__main__.py:51: RuntimeWarning: divide by zero encountered in double_scalars\n",
      "/Users/pdh21/anaconda3/envs/new/lib/python3.6/site-packages/ipykernel/__main__.py:61: RuntimeWarning: divide by zero encountered in true_divide\n"
     ]
    },
    {
     "name": "stdout",
     "output_type": "stream",
     "text": [
      "Domain  NOR_1025_1_Domain.shp 27 5151\n"
     ]
    },
    {
     "name": "stderr",
     "output_type": "stream",
     "text": [
      "/Users/pdh21/anaconda3/envs/new/lib/python3.6/site-packages/ipykernel/__main__.py:51: RuntimeWarning: divide by zero encountered in double_scalars\n",
      "/Users/pdh21/anaconda3/envs/new/lib/python3.6/site-packages/ipykernel/__main__.py:61: RuntimeWarning: invalid value encountered in true_divide\n"
     ]
    },
    {
     "name": "stdout",
     "output_type": "stream",
     "text": [
      "Domain  NOR_1026_1_Domain.shp 28 5151\n",
      "Domain  NOR_1027_1_Domain.shp 29 5151\n"
     ]
    },
    {
     "name": "stderr",
     "output_type": "stream",
     "text": [
      "/Users/pdh21/anaconda3/envs/new/lib/python3.6/site-packages/ipykernel/__main__.py:51: RuntimeWarning: divide by zero encountered in double_scalars\n",
      "/Users/pdh21/anaconda3/envs/new/lib/python3.6/site-packages/ipykernel/__main__.py:61: RuntimeWarning: invalid value encountered in true_divide\n"
     ]
    },
    {
     "name": "stdout",
     "output_type": "stream",
     "text": [
      "Domain  NOR_1028_1_Domain.shp 30 5151\n",
      "Domain  NOR_1029_1_Domain.shp 31 5151\n",
      "Domain  NOR_102_1_Domain.shp 32 5151\n",
      "Domain  NOR_1030_1_Domain.shp 33 5151\n",
      "Domain  NOR_1031_1_Domain.shp 34 5151\n",
      "Domain  NOR_1032_1_Domain.shp 35 5151\n"
     ]
    },
    {
     "name": "stderr",
     "output_type": "stream",
     "text": [
      "/Users/pdh21/anaconda3/envs/new/lib/python3.6/site-packages/ipykernel/__main__.py:51: RuntimeWarning: divide by zero encountered in double_scalars\n",
      "/Users/pdh21/anaconda3/envs/new/lib/python3.6/site-packages/ipykernel/__main__.py:61: RuntimeWarning: invalid value encountered in true_divide\n"
     ]
    },
    {
     "name": "stdout",
     "output_type": "stream",
     "text": [
      "Domain  NOR_1033_1_Domain.shp 36 5151\n",
      "Domain  NOR_1034_1_Domain.shp 37 5151\n"
     ]
    },
    {
     "name": "stderr",
     "output_type": "stream",
     "text": [
      "/Users/pdh21/anaconda3/envs/new/lib/python3.6/site-packages/ipykernel/__main__.py:51: RuntimeWarning: divide by zero encountered in double_scalars\n",
      "/Users/pdh21/anaconda3/envs/new/lib/python3.6/site-packages/ipykernel/__main__.py:61: RuntimeWarning: divide by zero encountered in true_divide\n"
     ]
    },
    {
     "name": "stdout",
     "output_type": "stream",
     "text": [
      "Domain  NOR_1035_1_Domain.shp 38 5151\n",
      "Domain  NOR_1036_1_Domain.shp 39 5151\n"
     ]
    },
    {
     "name": "stderr",
     "output_type": "stream",
     "text": [
      "/Users/pdh21/anaconda3/envs/new/lib/python3.6/site-packages/ipykernel/__main__.py:51: RuntimeWarning: divide by zero encountered in double_scalars\n",
      "/Users/pdh21/anaconda3/envs/new/lib/python3.6/site-packages/ipykernel/__main__.py:61: RuntimeWarning: invalid value encountered in true_divide\n"
     ]
    },
    {
     "name": "stdout",
     "output_type": "stream",
     "text": [
      "Domain  NOR_1037_1_Domain.shp 40 5151\n"
     ]
    },
    {
     "name": "stderr",
     "output_type": "stream",
     "text": [
      "/Users/pdh21/anaconda3/envs/new/lib/python3.6/site-packages/ipykernel/__main__.py:51: RuntimeWarning: divide by zero encountered in double_scalars\n",
      "/Users/pdh21/anaconda3/envs/new/lib/python3.6/site-packages/ipykernel/__main__.py:61: RuntimeWarning: invalid value encountered in true_divide\n"
     ]
    },
    {
     "name": "stdout",
     "output_type": "stream",
     "text": [
      "Domain  NOR_1038_1_Domain.shp 41 5151\n",
      "Domain  NOR_1039_1_Domain.shp 42 5151\n"
     ]
    },
    {
     "name": "stderr",
     "output_type": "stream",
     "text": [
      "/Users/pdh21/anaconda3/envs/new/lib/python3.6/site-packages/ipykernel/__main__.py:51: RuntimeWarning: divide by zero encountered in double_scalars\n",
      "/Users/pdh21/anaconda3/envs/new/lib/python3.6/site-packages/ipykernel/__main__.py:61: RuntimeWarning: invalid value encountered in true_divide\n"
     ]
    },
    {
     "name": "stdout",
     "output_type": "stream",
     "text": [
      "Domain  NOR_103_1_Domain.shp 43 5151\n",
      "Domain  NOR_1040_1_Domain.shp 44 5151\n",
      "Domain  NOR_1041_1_Domain.shp 45 5151\n"
     ]
    },
    {
     "name": "stderr",
     "output_type": "stream",
     "text": [
      "/Users/pdh21/anaconda3/envs/new/lib/python3.6/site-packages/ipykernel/__main__.py:51: RuntimeWarning: divide by zero encountered in double_scalars\n",
      "/Users/pdh21/anaconda3/envs/new/lib/python3.6/site-packages/ipykernel/__main__.py:61: RuntimeWarning: invalid value encountered in true_divide\n"
     ]
    },
    {
     "name": "stdout",
     "output_type": "stream",
     "text": [
      "Domain  NOR_1042_1_Domain.shp 46 5151\n",
      "Domain  NOR_1043_1_Domain.shp 47 5151\n",
      "Domain  NOR_1044_1_Domain.shp 48 5151\n"
     ]
    },
    {
     "name": "stderr",
     "output_type": "stream",
     "text": [
      "/Users/pdh21/anaconda3/envs/new/lib/python3.6/site-packages/ipykernel/__main__.py:51: RuntimeWarning: divide by zero encountered in double_scalars\n",
      "/Users/pdh21/anaconda3/envs/new/lib/python3.6/site-packages/ipykernel/__main__.py:61: RuntimeWarning: invalid value encountered in true_divide\n"
     ]
    },
    {
     "name": "stdout",
     "output_type": "stream",
     "text": [
      "Domain  NOR_1045_1_Domain.shp 49 5151\n",
      "Domain  NOR_1046_1_Domain.shp 50 5151\n",
      "Domain  NOR_1047_1_Domain.shp 51 5151\n",
      "Domain  NOR_1048_1_Domain.shp 52 5151\n",
      "Domain  NOR_1049_1_Domain.shp 53 5151\n"
     ]
    },
    {
     "name": "stderr",
     "output_type": "stream",
     "text": [
      "/Users/pdh21/anaconda3/envs/new/lib/python3.6/site-packages/ipykernel/__main__.py:51: RuntimeWarning: divide by zero encountered in double_scalars\n",
      "/Users/pdh21/anaconda3/envs/new/lib/python3.6/site-packages/ipykernel/__main__.py:61: RuntimeWarning: invalid value encountered in true_divide\n"
     ]
    },
    {
     "name": "stdout",
     "output_type": "stream",
     "text": [
      "Domain  NOR_104_1_Domain.shp 54 5151\n"
     ]
    },
    {
     "name": "stderr",
     "output_type": "stream",
     "text": [
      "/Users/pdh21/anaconda3/envs/new/lib/python3.6/site-packages/ipykernel/__main__.py:51: RuntimeWarning: divide by zero encountered in double_scalars\n",
      "/Users/pdh21/anaconda3/envs/new/lib/python3.6/site-packages/ipykernel/__main__.py:61: RuntimeWarning: invalid value encountered in true_divide\n"
     ]
    },
    {
     "name": "stdout",
     "output_type": "stream",
     "text": [
      "Domain  NOR_1050_1_Domain.shp 55 5151\n",
      "Domain  NOR_1051_1_Domain.shp 56 5151\n",
      "Domain  NOR_1052_1_Domain.shp 57 5151\n",
      "Domain  NOR_1053_1_Domain.shp 58 5151\n",
      "Domain  NOR_1054_1_Domain.shp 59 5151\n"
     ]
    },
    {
     "name": "stderr",
     "output_type": "stream",
     "text": [
      "/Users/pdh21/anaconda3/envs/new/lib/python3.6/site-packages/ipykernel/__main__.py:51: RuntimeWarning: divide by zero encountered in double_scalars\n",
      "/Users/pdh21/anaconda3/envs/new/lib/python3.6/site-packages/ipykernel/__main__.py:61: RuntimeWarning: invalid value encountered in true_divide\n"
     ]
    },
    {
     "name": "stdout",
     "output_type": "stream",
     "text": [
      "Domain  NOR_1055_1_Domain.shp 60 5151\n",
      "Domain  NOR_1056_1_Domain.shp 61 5151\n",
      "Domain  NOR_1057_1_Domain.shp 62 5151\n",
      "Domain  NOR_1058_1_Domain.shp 63 5151\n",
      "Domain  NOR_1059_1_Domain.shp 64 5151\n",
      "Domain  NOR_105_1_Domain.shp 65 5151\n"
     ]
    },
    {
     "name": "stderr",
     "output_type": "stream",
     "text": [
      "/Users/pdh21/anaconda3/envs/new/lib/python3.6/site-packages/ipykernel/__main__.py:51: RuntimeWarning: divide by zero encountered in double_scalars\n",
      "/Users/pdh21/anaconda3/envs/new/lib/python3.6/site-packages/ipykernel/__main__.py:61: RuntimeWarning: invalid value encountered in true_divide\n"
     ]
    },
    {
     "name": "stdout",
     "output_type": "stream",
     "text": [
      "Domain  NOR_1060_1_Domain.shp 66 5151\n",
      "Domain  NOR_1061_1_Domain.shp 67 5151\n"
     ]
    },
    {
     "name": "stderr",
     "output_type": "stream",
     "text": [
      "/Users/pdh21/anaconda3/envs/new/lib/python3.6/site-packages/ipykernel/__main__.py:51: RuntimeWarning: divide by zero encountered in double_scalars\n",
      "/Users/pdh21/anaconda3/envs/new/lib/python3.6/site-packages/ipykernel/__main__.py:61: RuntimeWarning: invalid value encountered in true_divide\n"
     ]
    },
    {
     "name": "stdout",
     "output_type": "stream",
     "text": [
      "Domain  NOR_1062_1_Domain.shp 68 5151\n"
     ]
    },
    {
     "name": "stderr",
     "output_type": "stream",
     "text": [
      "/Users/pdh21/anaconda3/envs/new/lib/python3.6/site-packages/ipykernel/__main__.py:51: RuntimeWarning: divide by zero encountered in double_scalars\n",
      "/Users/pdh21/anaconda3/envs/new/lib/python3.6/site-packages/ipykernel/__main__.py:61: RuntimeWarning: divide by zero encountered in true_divide\n",
      "/Users/pdh21/anaconda3/envs/new/lib/python3.6/site-packages/ipykernel/__main__.py:61: RuntimeWarning: invalid value encountered in true_divide\n"
     ]
    },
    {
     "name": "stdout",
     "output_type": "stream",
     "text": [
      "Domain  NOR_1063_1_Domain.shp 69 5151\n",
      "Domain  NOR_1064_1_Domain.shp 70 5151\n"
     ]
    },
    {
     "name": "stderr",
     "output_type": "stream",
     "text": [
      "/Users/pdh21/anaconda3/envs/new/lib/python3.6/site-packages/ipykernel/__main__.py:51: RuntimeWarning: divide by zero encountered in double_scalars\n",
      "/Users/pdh21/anaconda3/envs/new/lib/python3.6/site-packages/ipykernel/__main__.py:61: RuntimeWarning: divide by zero encountered in true_divide\n",
      "/Users/pdh21/anaconda3/envs/new/lib/python3.6/site-packages/ipykernel/__main__.py:61: RuntimeWarning: invalid value encountered in true_divide\n"
     ]
    },
    {
     "name": "stdout",
     "output_type": "stream",
     "text": [
      "Domain  NOR_1065_1_Domain.shp 71 5151\n"
     ]
    },
    {
     "name": "stderr",
     "output_type": "stream",
     "text": [
      "/Users/pdh21/anaconda3/envs/new/lib/python3.6/site-packages/ipykernel/__main__.py:51: RuntimeWarning: divide by zero encountered in double_scalars\n",
      "/Users/pdh21/anaconda3/envs/new/lib/python3.6/site-packages/ipykernel/__main__.py:61: RuntimeWarning: invalid value encountered in true_divide\n"
     ]
    },
    {
     "name": "stdout",
     "output_type": "stream",
     "text": [
      "Domain  NOR_1066_1_Domain.shp 72 5151\n"
     ]
    },
    {
     "name": "stderr",
     "output_type": "stream",
     "text": [
      "/Users/pdh21/anaconda3/envs/new/lib/python3.6/site-packages/ipykernel/__main__.py:51: RuntimeWarning: divide by zero encountered in double_scalars\n",
      "/Users/pdh21/anaconda3/envs/new/lib/python3.6/site-packages/ipykernel/__main__.py:61: RuntimeWarning: invalid value encountered in true_divide\n"
     ]
    },
    {
     "name": "stdout",
     "output_type": "stream",
     "text": [
      "Domain  NOR_1067_1_Domain.shp 73 5151\n"
     ]
    },
    {
     "name": "stderr",
     "output_type": "stream",
     "text": [
      "/Users/pdh21/anaconda3/envs/new/lib/python3.6/site-packages/ipykernel/__main__.py:51: RuntimeWarning: divide by zero encountered in double_scalars\n",
      "/Users/pdh21/anaconda3/envs/new/lib/python3.6/site-packages/ipykernel/__main__.py:61: RuntimeWarning: invalid value encountered in true_divide\n"
     ]
    },
    {
     "name": "stdout",
     "output_type": "stream",
     "text": [
      "Domain  NOR_1068_1_Domain.shp 74 5151\n"
     ]
    },
    {
     "name": "stderr",
     "output_type": "stream",
     "text": [
      "/Users/pdh21/anaconda3/envs/new/lib/python3.6/site-packages/ipykernel/__main__.py:51: RuntimeWarning: divide by zero encountered in double_scalars\n",
      "/Users/pdh21/anaconda3/envs/new/lib/python3.6/site-packages/ipykernel/__main__.py:61: RuntimeWarning: invalid value encountered in true_divide\n",
      "/Users/pdh21/anaconda3/envs/new/lib/python3.6/site-packages/ipykernel/__main__.py:61: RuntimeWarning: divide by zero encountered in true_divide\n"
     ]
    },
    {
     "name": "stdout",
     "output_type": "stream",
     "text": [
      "Domain  NOR_1069_1_Domain.shp 75 5151\n",
      "Domain  NOR_106_1_Domain.shp 76 5151\n",
      "Domain  NOR_1070_1_Domain.shp 77 5151\n"
     ]
    },
    {
     "name": "stderr",
     "output_type": "stream",
     "text": [
      "/Users/pdh21/anaconda3/envs/new/lib/python3.6/site-packages/ipykernel/__main__.py:51: RuntimeWarning: divide by zero encountered in double_scalars\n",
      "/Users/pdh21/anaconda3/envs/new/lib/python3.6/site-packages/ipykernel/__main__.py:61: RuntimeWarning: invalid value encountered in true_divide\n",
      "/Users/pdh21/anaconda3/envs/new/lib/python3.6/site-packages/ipykernel/__main__.py:61: RuntimeWarning: divide by zero encountered in true_divide\n"
     ]
    },
    {
     "name": "stdout",
     "output_type": "stream",
     "text": [
      "Domain  NOR_1071_1_Domain.shp 78 5151\n"
     ]
    },
    {
     "name": "stderr",
     "output_type": "stream",
     "text": [
      "/Users/pdh21/anaconda3/envs/new/lib/python3.6/site-packages/ipykernel/__main__.py:51: RuntimeWarning: divide by zero encountered in double_scalars\n",
      "/Users/pdh21/anaconda3/envs/new/lib/python3.6/site-packages/ipykernel/__main__.py:61: RuntimeWarning: invalid value encountered in true_divide\n"
     ]
    },
    {
     "name": "stdout",
     "output_type": "stream",
     "text": [
      "Domain  NOR_1072_1_Domain.shp 79 5151\n"
     ]
    },
    {
     "name": "stderr",
     "output_type": "stream",
     "text": [
      "/Users/pdh21/anaconda3/envs/new/lib/python3.6/site-packages/ipykernel/__main__.py:51: RuntimeWarning: divide by zero encountered in double_scalars\n",
      "/Users/pdh21/anaconda3/envs/new/lib/python3.6/site-packages/ipykernel/__main__.py:61: RuntimeWarning: invalid value encountered in true_divide\n"
     ]
    },
    {
     "name": "stdout",
     "output_type": "stream",
     "text": [
      "Domain  NOR_1073_1_Domain.shp 80 5151\n",
      "Domain  NOR_1074_1_Domain.shp 81 5151\n",
      "Domain  NOR_1075_1_Domain.shp 82 5151\n",
      "Domain  NOR_1076_1_Domain.shp 83 5151\n"
     ]
    },
    {
     "name": "stderr",
     "output_type": "stream",
     "text": [
      "/Users/pdh21/anaconda3/envs/new/lib/python3.6/site-packages/ipykernel/__main__.py:51: RuntimeWarning: divide by zero encountered in double_scalars\n",
      "/Users/pdh21/anaconda3/envs/new/lib/python3.6/site-packages/ipykernel/__main__.py:61: RuntimeWarning: invalid value encountered in true_divide\n",
      "/Users/pdh21/anaconda3/envs/new/lib/python3.6/site-packages/ipykernel/__main__.py:61: RuntimeWarning: divide by zero encountered in true_divide\n"
     ]
    },
    {
     "name": "stdout",
     "output_type": "stream",
     "text": [
      "Domain  NOR_1077_1_Domain.shp 84 5151\n"
     ]
    },
    {
     "name": "stderr",
     "output_type": "stream",
     "text": [
      "/Users/pdh21/anaconda3/envs/new/lib/python3.6/site-packages/ipykernel/__main__.py:51: RuntimeWarning: divide by zero encountered in double_scalars\n",
      "/Users/pdh21/anaconda3/envs/new/lib/python3.6/site-packages/ipykernel/__main__.py:61: RuntimeWarning: invalid value encountered in true_divide\n"
     ]
    },
    {
     "name": "stdout",
     "output_type": "stream",
     "text": [
      "Domain  NOR_1078_1_Domain.shp 85 5151\n"
     ]
    },
    {
     "name": "stderr",
     "output_type": "stream",
     "text": [
      "/Users/pdh21/anaconda3/envs/new/lib/python3.6/site-packages/ipykernel/__main__.py:51: RuntimeWarning: divide by zero encountered in double_scalars\n",
      "/Users/pdh21/anaconda3/envs/new/lib/python3.6/site-packages/ipykernel/__main__.py:61: RuntimeWarning: invalid value encountered in true_divide\n"
     ]
    },
    {
     "name": "stdout",
     "output_type": "stream",
     "text": [
      "Domain  NOR_1079_1_Domain.shp 86 5151\n"
     ]
    },
    {
     "name": "stderr",
     "output_type": "stream",
     "text": [
      "/Users/pdh21/anaconda3/envs/new/lib/python3.6/site-packages/ipykernel/__main__.py:51: RuntimeWarning: divide by zero encountered in double_scalars\n",
      "/Users/pdh21/anaconda3/envs/new/lib/python3.6/site-packages/ipykernel/__main__.py:61: RuntimeWarning: divide by zero encountered in true_divide\n"
     ]
    },
    {
     "name": "stdout",
     "output_type": "stream",
     "text": [
      "Domain  NOR_107_1_Domain.shp 87 5151\n",
      "Domain  NOR_1080_1_Domain.shp 88 5151\n",
      "Domain  NOR_1081_1_Domain.shp 89 5151\n",
      "Domain  NOR_1082_1_Domain.shp 90 5151\n"
     ]
    },
    {
     "name": "stderr",
     "output_type": "stream",
     "text": [
      "/Users/pdh21/anaconda3/envs/new/lib/python3.6/site-packages/ipykernel/__main__.py:51: RuntimeWarning: divide by zero encountered in double_scalars\n",
      "/Users/pdh21/anaconda3/envs/new/lib/python3.6/site-packages/ipykernel/__main__.py:61: RuntimeWarning: invalid value encountered in true_divide\n"
     ]
    },
    {
     "name": "stdout",
     "output_type": "stream",
     "text": [
      "Domain  NOR_1083_1_Domain.shp 91 5151\n",
      "Domain  NOR_1084_1_Domain.shp 92 5151\n"
     ]
    },
    {
     "name": "stderr",
     "output_type": "stream",
     "text": [
      "/Users/pdh21/anaconda3/envs/new/lib/python3.6/site-packages/ipykernel/__main__.py:51: RuntimeWarning: divide by zero encountered in double_scalars\n",
      "/Users/pdh21/anaconda3/envs/new/lib/python3.6/site-packages/ipykernel/__main__.py:61: RuntimeWarning: invalid value encountered in true_divide\n"
     ]
    },
    {
     "name": "stdout",
     "output_type": "stream",
     "text": [
      "Domain  NOR_1085_1_Domain.shp 93 5151\n",
      "Domain  NOR_1086_1_Domain.shp 94 5151\n"
     ]
    },
    {
     "name": "stderr",
     "output_type": "stream",
     "text": [
      "/Users/pdh21/anaconda3/envs/new/lib/python3.6/site-packages/ipykernel/__main__.py:51: RuntimeWarning: divide by zero encountered in double_scalars\n",
      "/Users/pdh21/anaconda3/envs/new/lib/python3.6/site-packages/ipykernel/__main__.py:61: RuntimeWarning: invalid value encountered in true_divide\n"
     ]
    },
    {
     "name": "stdout",
     "output_type": "stream",
     "text": [
      "Domain  NOR_1087_1_Domain.shp 95 5151\n",
      "Domain  NOR_1088_1_Domain.shp 96 5151\n",
      "Domain  NOR_1089_1_Domain.shp 97 5151\n"
     ]
    },
    {
     "name": "stderr",
     "output_type": "stream",
     "text": [
      "/Users/pdh21/anaconda3/envs/new/lib/python3.6/site-packages/ipykernel/__main__.py:51: RuntimeWarning: divide by zero encountered in double_scalars\n",
      "/Users/pdh21/anaconda3/envs/new/lib/python3.6/site-packages/ipykernel/__main__.py:61: RuntimeWarning: invalid value encountered in true_divide\n",
      "/Users/pdh21/anaconda3/envs/new/lib/python3.6/site-packages/ipykernel/__main__.py:61: RuntimeWarning: divide by zero encountered in true_divide\n"
     ]
    },
    {
     "name": "stdout",
     "output_type": "stream",
     "text": [
      "Domain  NOR_108_1_Domain.shp 98 5151\n",
      "Domain  NOR_1090_1_Domain.shp 99 5151\n",
      "Domain  NOR_1091_1_Domain.shp 100 5151\n"
     ]
    },
    {
     "name": "stderr",
     "output_type": "stream",
     "text": [
      "/Users/pdh21/anaconda3/envs/new/lib/python3.6/site-packages/ipykernel/__main__.py:51: RuntimeWarning: divide by zero encountered in double_scalars\n",
      "/Users/pdh21/anaconda3/envs/new/lib/python3.6/site-packages/ipykernel/__main__.py:61: RuntimeWarning: divide by zero encountered in true_divide\n",
      "/Users/pdh21/anaconda3/envs/new/lib/python3.6/site-packages/ipykernel/__main__.py:61: RuntimeWarning: invalid value encountered in true_divide\n"
     ]
    },
    {
     "name": "stdout",
     "output_type": "stream",
     "text": [
      "Domain  NOR_1092_1_Domain.shp 101 5151\n",
      "Domain  NOR_1093_1_Domain.shp 102 5151\n"
     ]
    },
    {
     "name": "stderr",
     "output_type": "stream",
     "text": [
      "/Users/pdh21/anaconda3/envs/new/lib/python3.6/site-packages/ipykernel/__main__.py:51: RuntimeWarning: divide by zero encountered in double_scalars\n",
      "/Users/pdh21/anaconda3/envs/new/lib/python3.6/site-packages/ipykernel/__main__.py:61: RuntimeWarning: invalid value encountered in true_divide\n"
     ]
    },
    {
     "name": "stdout",
     "output_type": "stream",
     "text": [
      "Domain  NOR_1094_1_Domain.shp 103 5151\n"
     ]
    },
    {
     "name": "stderr",
     "output_type": "stream",
     "text": [
      "/Users/pdh21/anaconda3/envs/new/lib/python3.6/site-packages/ipykernel/__main__.py:51: RuntimeWarning: divide by zero encountered in double_scalars\n",
      "/Users/pdh21/anaconda3/envs/new/lib/python3.6/site-packages/ipykernel/__main__.py:61: RuntimeWarning: divide by zero encountered in true_divide\n",
      "/Users/pdh21/anaconda3/envs/new/lib/python3.6/site-packages/ipykernel/__main__.py:61: RuntimeWarning: invalid value encountered in true_divide\n"
     ]
    },
    {
     "name": "stdout",
     "output_type": "stream",
     "text": [
      "Domain  NOR_1095_1_Domain.shp 104 5151\n"
     ]
    },
    {
     "name": "stderr",
     "output_type": "stream",
     "text": [
      "/Users/pdh21/anaconda3/envs/new/lib/python3.6/site-packages/ipykernel/__main__.py:51: RuntimeWarning: divide by zero encountered in double_scalars\n",
      "/Users/pdh21/anaconda3/envs/new/lib/python3.6/site-packages/ipykernel/__main__.py:61: RuntimeWarning: invalid value encountered in true_divide\n"
     ]
    },
    {
     "name": "stdout",
     "output_type": "stream",
     "text": [
      "Domain  NOR_1096_1_Domain.shp 105 5151\n",
      "Domain  NOR_1097_1_Domain.shp 106 5151\n"
     ]
    },
    {
     "name": "stderr",
     "output_type": "stream",
     "text": [
      "/Users/pdh21/anaconda3/envs/new/lib/python3.6/site-packages/ipykernel/__main__.py:51: RuntimeWarning: divide by zero encountered in double_scalars\n",
      "/Users/pdh21/anaconda3/envs/new/lib/python3.6/site-packages/ipykernel/__main__.py:61: RuntimeWarning: invalid value encountered in true_divide\n",
      "/Users/pdh21/anaconda3/envs/new/lib/python3.6/site-packages/ipykernel/__main__.py:61: RuntimeWarning: divide by zero encountered in true_divide\n"
     ]
    },
    {
     "name": "stdout",
     "output_type": "stream",
     "text": [
      "Domain  NOR_1098_1_Domain.shp 107 5151\n"
     ]
    },
    {
     "name": "stderr",
     "output_type": "stream",
     "text": [
      "/Users/pdh21/anaconda3/envs/new/lib/python3.6/site-packages/ipykernel/__main__.py:51: RuntimeWarning: divide by zero encountered in double_scalars\n",
      "/Users/pdh21/anaconda3/envs/new/lib/python3.6/site-packages/ipykernel/__main__.py:61: RuntimeWarning: invalid value encountered in true_divide\n"
     ]
    },
    {
     "name": "stdout",
     "output_type": "stream",
     "text": [
      "Domain  NOR_1099_1_Domain.shp 108 5151\n"
     ]
    },
    {
     "name": "stderr",
     "output_type": "stream",
     "text": [
      "/Users/pdh21/anaconda3/envs/new/lib/python3.6/site-packages/ipykernel/__main__.py:51: RuntimeWarning: divide by zero encountered in double_scalars\n",
      "/Users/pdh21/anaconda3/envs/new/lib/python3.6/site-packages/ipykernel/__main__.py:61: RuntimeWarning: invalid value encountered in true_divide\n"
     ]
    },
    {
     "name": "stdout",
     "output_type": "stream",
     "text": [
      "Domain  NOR_109_1_Domain.shp 109 5151\n"
     ]
    },
    {
     "name": "stderr",
     "output_type": "stream",
     "text": [
      "/Users/pdh21/anaconda3/envs/new/lib/python3.6/site-packages/ipykernel/__main__.py:51: RuntimeWarning: divide by zero encountered in double_scalars\n",
      "/Users/pdh21/anaconda3/envs/new/lib/python3.6/site-packages/ipykernel/__main__.py:61: RuntimeWarning: invalid value encountered in true_divide\n"
     ]
    },
    {
     "name": "stdout",
     "output_type": "stream",
     "text": [
      "Domain  NOR_10_1_Domain.shp 110 5151\n"
     ]
    },
    {
     "name": "stderr",
     "output_type": "stream",
     "text": [
      "/Users/pdh21/anaconda3/envs/new/lib/python3.6/site-packages/ipykernel/__main__.py:51: RuntimeWarning: divide by zero encountered in double_scalars\n",
      "/Users/pdh21/anaconda3/envs/new/lib/python3.6/site-packages/ipykernel/__main__.py:61: RuntimeWarning: invalid value encountered in true_divide\n",
      "/Users/pdh21/anaconda3/envs/new/lib/python3.6/site-packages/ipykernel/__main__.py:61: RuntimeWarning: divide by zero encountered in true_divide\n"
     ]
    },
    {
     "name": "stdout",
     "output_type": "stream",
     "text": [
      "Domain  NOR_1100_1_Domain.shp 111 5151\n",
      "Domain  NOR_1101_1_Domain.shp 112 5151\n"
     ]
    },
    {
     "name": "stderr",
     "output_type": "stream",
     "text": [
      "/Users/pdh21/anaconda3/envs/new/lib/python3.6/site-packages/ipykernel/__main__.py:51: RuntimeWarning: divide by zero encountered in double_scalars\n",
      "/Users/pdh21/anaconda3/envs/new/lib/python3.6/site-packages/ipykernel/__main__.py:61: RuntimeWarning: invalid value encountered in true_divide\n"
     ]
    },
    {
     "name": "stdout",
     "output_type": "stream",
     "text": [
      "Domain  NOR_1102_1_Domain.shp 113 5151\n"
     ]
    },
    {
     "name": "stderr",
     "output_type": "stream",
     "text": [
      "/Users/pdh21/anaconda3/envs/new/lib/python3.6/site-packages/ipykernel/__main__.py:51: RuntimeWarning: divide by zero encountered in double_scalars\n",
      "/Users/pdh21/anaconda3/envs/new/lib/python3.6/site-packages/ipykernel/__main__.py:61: RuntimeWarning: invalid value encountered in true_divide\n"
     ]
    },
    {
     "name": "stdout",
     "output_type": "stream",
     "text": [
      "Domain  NOR_1103_1_Domain.shp 114 5151\n",
      "Domain  NOR_1104_1_Domain.shp 115 5151\n"
     ]
    },
    {
     "name": "stderr",
     "output_type": "stream",
     "text": [
      "/Users/pdh21/anaconda3/envs/new/lib/python3.6/site-packages/ipykernel/__main__.py:51: RuntimeWarning: divide by zero encountered in double_scalars\n",
      "/Users/pdh21/anaconda3/envs/new/lib/python3.6/site-packages/ipykernel/__main__.py:61: RuntimeWarning: invalid value encountered in true_divide\n"
     ]
    },
    {
     "name": "stdout",
     "output_type": "stream",
     "text": [
      "Domain  NOR_1105_1_Domain.shp 116 5151\n"
     ]
    },
    {
     "name": "stderr",
     "output_type": "stream",
     "text": [
      "/Users/pdh21/anaconda3/envs/new/lib/python3.6/site-packages/ipykernel/__main__.py:51: RuntimeWarning: divide by zero encountered in double_scalars\n",
      "/Users/pdh21/anaconda3/envs/new/lib/python3.6/site-packages/ipykernel/__main__.py:61: RuntimeWarning: invalid value encountered in true_divide\n"
     ]
    },
    {
     "name": "stdout",
     "output_type": "stream",
     "text": [
      "Domain  NOR_1106_1_Domain.shp 117 5151\n",
      "Domain  NOR_1107_1_Domain.shp 118 5151\n"
     ]
    },
    {
     "name": "stderr",
     "output_type": "stream",
     "text": [
      "/Users/pdh21/anaconda3/envs/new/lib/python3.6/site-packages/ipykernel/__main__.py:51: RuntimeWarning: divide by zero encountered in double_scalars\n",
      "/Users/pdh21/anaconda3/envs/new/lib/python3.6/site-packages/ipykernel/__main__.py:61: RuntimeWarning: invalid value encountered in true_divide\n"
     ]
    },
    {
     "name": "stdout",
     "output_type": "stream",
     "text": [
      "Domain  NOR_1108_1_Domain.shp 119 5151\n"
     ]
    },
    {
     "name": "stderr",
     "output_type": "stream",
     "text": [
      "/Users/pdh21/anaconda3/envs/new/lib/python3.6/site-packages/ipykernel/__main__.py:51: RuntimeWarning: divide by zero encountered in double_scalars\n",
      "/Users/pdh21/anaconda3/envs/new/lib/python3.6/site-packages/ipykernel/__main__.py:61: RuntimeWarning: invalid value encountered in true_divide\n"
     ]
    },
    {
     "name": "stdout",
     "output_type": "stream",
     "text": [
      "Domain  NOR_1109_1_Domain.shp 120 5151\n",
      "Domain  NOR_110_1_Domain.shp 121 5151\n",
      "Domain  NOR_1110_1_Domain.shp 122 5151\n"
     ]
    },
    {
     "name": "stderr",
     "output_type": "stream",
     "text": [
      "/Users/pdh21/anaconda3/envs/new/lib/python3.6/site-packages/ipykernel/__main__.py:51: RuntimeWarning: divide by zero encountered in double_scalars\n",
      "/Users/pdh21/anaconda3/envs/new/lib/python3.6/site-packages/ipykernel/__main__.py:61: RuntimeWarning: invalid value encountered in true_divide\n"
     ]
    },
    {
     "name": "stdout",
     "output_type": "stream",
     "text": [
      "Domain  NOR_1111_1_Domain.shp 123 5151\n",
      "Domain  NOR_1112_1_Domain.shp 124 5151\n"
     ]
    },
    {
     "name": "stderr",
     "output_type": "stream",
     "text": [
      "/Users/pdh21/anaconda3/envs/new/lib/python3.6/site-packages/ipykernel/__main__.py:51: RuntimeWarning: divide by zero encountered in double_scalars\n",
      "/Users/pdh21/anaconda3/envs/new/lib/python3.6/site-packages/ipykernel/__main__.py:61: RuntimeWarning: invalid value encountered in true_divide\n"
     ]
    },
    {
     "name": "stdout",
     "output_type": "stream",
     "text": [
      "Domain  NOR_1113_1_Domain.shp 125 5151\n",
      "Domain  NOR_1114_1_Domain.shp 126 5151\n"
     ]
    },
    {
     "name": "stderr",
     "output_type": "stream",
     "text": [
      "/Users/pdh21/anaconda3/envs/new/lib/python3.6/site-packages/ipykernel/__main__.py:51: RuntimeWarning: divide by zero encountered in double_scalars\n",
      "/Users/pdh21/anaconda3/envs/new/lib/python3.6/site-packages/ipykernel/__main__.py:61: RuntimeWarning: invalid value encountered in true_divide\n"
     ]
    },
    {
     "name": "stdout",
     "output_type": "stream",
     "text": [
      "Domain  NOR_1115_1_Domain.shp 127 5151\n"
     ]
    },
    {
     "name": "stderr",
     "output_type": "stream",
     "text": [
      "/Users/pdh21/anaconda3/envs/new/lib/python3.6/site-packages/ipykernel/__main__.py:51: RuntimeWarning: divide by zero encountered in double_scalars\n",
      "/Users/pdh21/anaconda3/envs/new/lib/python3.6/site-packages/ipykernel/__main__.py:61: RuntimeWarning: invalid value encountered in true_divide\n"
     ]
    },
    {
     "name": "stdout",
     "output_type": "stream",
     "text": [
      "Domain  NOR_1116_1_Domain.shp 128 5151\n"
     ]
    },
    {
     "name": "stderr",
     "output_type": "stream",
     "text": [
      "/Users/pdh21/anaconda3/envs/new/lib/python3.6/site-packages/ipykernel/__main__.py:51: RuntimeWarning: divide by zero encountered in double_scalars\n",
      "/Users/pdh21/anaconda3/envs/new/lib/python3.6/site-packages/ipykernel/__main__.py:61: RuntimeWarning: invalid value encountered in true_divide\n"
     ]
    },
    {
     "name": "stdout",
     "output_type": "stream",
     "text": [
      "Domain  NOR_1117_1_Domain.shp 129 5151\n"
     ]
    },
    {
     "name": "stderr",
     "output_type": "stream",
     "text": [
      "/Users/pdh21/anaconda3/envs/new/lib/python3.6/site-packages/ipykernel/__main__.py:51: RuntimeWarning: divide by zero encountered in double_scalars\n",
      "/Users/pdh21/anaconda3/envs/new/lib/python3.6/site-packages/ipykernel/__main__.py:61: RuntimeWarning: invalid value encountered in true_divide\n"
     ]
    },
    {
     "name": "stdout",
     "output_type": "stream",
     "text": [
      "Domain  NOR_1118_1_Domain.shp 130 5151\n"
     ]
    },
    {
     "name": "stderr",
     "output_type": "stream",
     "text": [
      "/Users/pdh21/anaconda3/envs/new/lib/python3.6/site-packages/ipykernel/__main__.py:51: RuntimeWarning: divide by zero encountered in double_scalars\n",
      "/Users/pdh21/anaconda3/envs/new/lib/python3.6/site-packages/ipykernel/__main__.py:61: RuntimeWarning: invalid value encountered in true_divide\n",
      "/Users/pdh21/anaconda3/envs/new/lib/python3.6/site-packages/ipykernel/__main__.py:61: RuntimeWarning: divide by zero encountered in true_divide\n"
     ]
    },
    {
     "name": "stdout",
     "output_type": "stream",
     "text": [
      "Domain  NOR_1119_1_Domain.shp 131 5151\n",
      "Domain  NOR_111_1_Domain.shp 132 5151\n",
      "Domain  NOR_1120_1_Domain.shp 133 5151\n",
      "Domain  NOR_1121_1_Domain.shp 134 5151\n"
     ]
    },
    {
     "name": "stderr",
     "output_type": "stream",
     "text": [
      "/Users/pdh21/anaconda3/envs/new/lib/python3.6/site-packages/ipykernel/__main__.py:51: RuntimeWarning: divide by zero encountered in double_scalars\n",
      "/Users/pdh21/anaconda3/envs/new/lib/python3.6/site-packages/ipykernel/__main__.py:61: RuntimeWarning: divide by zero encountered in true_divide\n"
     ]
    },
    {
     "name": "stdout",
     "output_type": "stream",
     "text": [
      "Domain  NOR_1122_1_Domain.shp 135 5151\n",
      "Domain  NOR_1123_1_Domain.shp 136 5151\n"
     ]
    },
    {
     "name": "stderr",
     "output_type": "stream",
     "text": [
      "/Users/pdh21/anaconda3/envs/new/lib/python3.6/site-packages/ipykernel/__main__.py:51: RuntimeWarning: divide by zero encountered in double_scalars\n",
      "/Users/pdh21/anaconda3/envs/new/lib/python3.6/site-packages/ipykernel/__main__.py:61: RuntimeWarning: invalid value encountered in true_divide\n"
     ]
    },
    {
     "name": "stdout",
     "output_type": "stream",
     "text": [
      "Domain  NOR_1124_1_Domain.shp 137 5151\n"
     ]
    },
    {
     "name": "stderr",
     "output_type": "stream",
     "text": [
      "/Users/pdh21/anaconda3/envs/new/lib/python3.6/site-packages/ipykernel/__main__.py:51: RuntimeWarning: divide by zero encountered in double_scalars\n",
      "/Users/pdh21/anaconda3/envs/new/lib/python3.6/site-packages/ipykernel/__main__.py:61: RuntimeWarning: invalid value encountered in true_divide\n"
     ]
    },
    {
     "name": "stdout",
     "output_type": "stream",
     "text": [
      "Domain  NOR_1125_1_Domain.shp 138 5151\n",
      "Domain  NOR_1126_1_Domain.shp 139 5151\n",
      "Domain  NOR_1127_1_Domain.shp 140 5151\n"
     ]
    },
    {
     "name": "stderr",
     "output_type": "stream",
     "text": [
      "/Users/pdh21/anaconda3/envs/new/lib/python3.6/site-packages/ipykernel/__main__.py:51: RuntimeWarning: divide by zero encountered in double_scalars\n",
      "/Users/pdh21/anaconda3/envs/new/lib/python3.6/site-packages/ipykernel/__main__.py:61: RuntimeWarning: invalid value encountered in true_divide\n"
     ]
    },
    {
     "name": "stdout",
     "output_type": "stream",
     "text": [
      "Domain  NOR_1128_1_Domain.shp 141 5151\n"
     ]
    },
    {
     "name": "stderr",
     "output_type": "stream",
     "text": [
      "/Users/pdh21/anaconda3/envs/new/lib/python3.6/site-packages/ipykernel/__main__.py:51: RuntimeWarning: divide by zero encountered in double_scalars\n",
      "/Users/pdh21/anaconda3/envs/new/lib/python3.6/site-packages/ipykernel/__main__.py:61: RuntimeWarning: invalid value encountered in true_divide\n"
     ]
    },
    {
     "name": "stdout",
     "output_type": "stream",
     "text": [
      "Domain  NOR_1129_1_Domain.shp 142 5151\n"
     ]
    },
    {
     "name": "stderr",
     "output_type": "stream",
     "text": [
      "/Users/pdh21/anaconda3/envs/new/lib/python3.6/site-packages/ipykernel/__main__.py:51: RuntimeWarning: divide by zero encountered in double_scalars\n",
      "/Users/pdh21/anaconda3/envs/new/lib/python3.6/site-packages/ipykernel/__main__.py:61: RuntimeWarning: invalid value encountered in true_divide\n"
     ]
    },
    {
     "name": "stdout",
     "output_type": "stream",
     "text": [
      "Domain  NOR_112_1_Domain.shp 143 5151\n",
      "Domain  NOR_1130_1_Domain.shp 144 5151\n",
      "Domain  NOR_1131_1_Domain.shp 145 5151\n"
     ]
    },
    {
     "name": "stderr",
     "output_type": "stream",
     "text": [
      "/Users/pdh21/anaconda3/envs/new/lib/python3.6/site-packages/ipykernel/__main__.py:51: RuntimeWarning: divide by zero encountered in double_scalars\n",
      "/Users/pdh21/anaconda3/envs/new/lib/python3.6/site-packages/ipykernel/__main__.py:61: RuntimeWarning: divide by zero encountered in true_divide\n",
      "/Users/pdh21/anaconda3/envs/new/lib/python3.6/site-packages/ipykernel/__main__.py:61: RuntimeWarning: invalid value encountered in true_divide\n"
     ]
    },
    {
     "name": "stdout",
     "output_type": "stream",
     "text": [
      "Domain  NOR_1132_1_Domain.shp 146 5151\n"
     ]
    },
    {
     "name": "stderr",
     "output_type": "stream",
     "text": [
      "/Users/pdh21/anaconda3/envs/new/lib/python3.6/site-packages/ipykernel/__main__.py:51: RuntimeWarning: divide by zero encountered in double_scalars\n",
      "/Users/pdh21/anaconda3/envs/new/lib/python3.6/site-packages/ipykernel/__main__.py:61: RuntimeWarning: invalid value encountered in true_divide\n",
      "/Users/pdh21/anaconda3/envs/new/lib/python3.6/site-packages/ipykernel/__main__.py:61: RuntimeWarning: divide by zero encountered in true_divide\n"
     ]
    },
    {
     "name": "stdout",
     "output_type": "stream",
     "text": [
      "Domain  NOR_1133_1_Domain.shp 147 5151\n",
      "Domain  NOR_1134_1_Domain.shp 148 5151\n",
      "Domain  NOR_1135_1_Domain.shp 149 5151\n",
      "Domain  NOR_1136_1_Domain.shp 150 5151\n",
      "Domain  NOR_1137_1_Domain.shp 151 5151\n",
      "Domain  NOR_1138_1_Domain.shp 152 5151\n",
      "Domain  NOR_1139_1_Domain.shp 153 5151\n",
      "Domain  NOR_113_1_Domain.shp 154 5151\n"
     ]
    },
    {
     "name": "stderr",
     "output_type": "stream",
     "text": [
      "/Users/pdh21/anaconda3/envs/new/lib/python3.6/site-packages/ipykernel/__main__.py:51: RuntimeWarning: divide by zero encountered in double_scalars\n",
      "/Users/pdh21/anaconda3/envs/new/lib/python3.6/site-packages/ipykernel/__main__.py:61: RuntimeWarning: invalid value encountered in true_divide\n"
     ]
    },
    {
     "name": "stdout",
     "output_type": "stream",
     "text": [
      "Domain  NOR_1140_1_Domain.shp 155 5151\n",
      "Domain  NOR_1141_1_Domain.shp 156 5151\n"
     ]
    },
    {
     "name": "stderr",
     "output_type": "stream",
     "text": [
      "/Users/pdh21/anaconda3/envs/new/lib/python3.6/site-packages/ipykernel/__main__.py:51: RuntimeWarning: divide by zero encountered in double_scalars\n",
      "/Users/pdh21/anaconda3/envs/new/lib/python3.6/site-packages/ipykernel/__main__.py:61: RuntimeWarning: invalid value encountered in true_divide\n"
     ]
    },
    {
     "name": "stdout",
     "output_type": "stream",
     "text": [
      "Domain  NOR_1142_1_Domain.shp 157 5151\n"
     ]
    },
    {
     "name": "stderr",
     "output_type": "stream",
     "text": [
      "/Users/pdh21/anaconda3/envs/new/lib/python3.6/site-packages/ipykernel/__main__.py:51: RuntimeWarning: divide by zero encountered in double_scalars\n",
      "/Users/pdh21/anaconda3/envs/new/lib/python3.6/site-packages/ipykernel/__main__.py:61: RuntimeWarning: divide by zero encountered in true_divide\n",
      "/Users/pdh21/anaconda3/envs/new/lib/python3.6/site-packages/ipykernel/__main__.py:61: RuntimeWarning: invalid value encountered in true_divide\n"
     ]
    },
    {
     "name": "stdout",
     "output_type": "stream",
     "text": [
      "Domain  NOR_1143_1_Domain.shp 158 5151\n"
     ]
    },
    {
     "name": "stderr",
     "output_type": "stream",
     "text": [
      "/Users/pdh21/anaconda3/envs/new/lib/python3.6/site-packages/ipykernel/__main__.py:51: RuntimeWarning: divide by zero encountered in double_scalars\n",
      "/Users/pdh21/anaconda3/envs/new/lib/python3.6/site-packages/ipykernel/__main__.py:61: RuntimeWarning: invalid value encountered in true_divide\n"
     ]
    },
    {
     "name": "stdout",
     "output_type": "stream",
     "text": [
      "Domain  NOR_1144_1_Domain.shp 159 5151\n",
      "Domain  NOR_1145_1_Domain.shp 160 5151\n"
     ]
    },
    {
     "name": "stderr",
     "output_type": "stream",
     "text": [
      "/Users/pdh21/anaconda3/envs/new/lib/python3.6/site-packages/ipykernel/__main__.py:51: RuntimeWarning: divide by zero encountered in double_scalars\n",
      "/Users/pdh21/anaconda3/envs/new/lib/python3.6/site-packages/ipykernel/__main__.py:61: RuntimeWarning: invalid value encountered in true_divide\n"
     ]
    },
    {
     "name": "stdout",
     "output_type": "stream",
     "text": [
      "Domain  NOR_1146_1_Domain.shp 161 5151\n",
      "Domain  NOR_1147_1_Domain.shp 162 5151\n",
      "Domain  NOR_1148_1_Domain.shp 163 5151\n"
     ]
    },
    {
     "name": "stderr",
     "output_type": "stream",
     "text": [
      "/Users/pdh21/anaconda3/envs/new/lib/python3.6/site-packages/ipykernel/__main__.py:51: RuntimeWarning: divide by zero encountered in double_scalars\n",
      "/Users/pdh21/anaconda3/envs/new/lib/python3.6/site-packages/ipykernel/__main__.py:61: RuntimeWarning: invalid value encountered in true_divide\n"
     ]
    },
    {
     "name": "stdout",
     "output_type": "stream",
     "text": [
      "Domain  NOR_1149_1_Domain.shp 164 5151\n"
     ]
    },
    {
     "name": "stderr",
     "output_type": "stream",
     "text": [
      "/Users/pdh21/anaconda3/envs/new/lib/python3.6/site-packages/ipykernel/__main__.py:51: RuntimeWarning: divide by zero encountered in double_scalars\n",
      "/Users/pdh21/anaconda3/envs/new/lib/python3.6/site-packages/ipykernel/__main__.py:61: RuntimeWarning: invalid value encountered in true_divide\n"
     ]
    },
    {
     "name": "stdout",
     "output_type": "stream",
     "text": [
      "Domain  NOR_114_1_Domain.shp 165 5151\n"
     ]
    },
    {
     "name": "stderr",
     "output_type": "stream",
     "text": [
      "/Users/pdh21/anaconda3/envs/new/lib/python3.6/site-packages/ipykernel/__main__.py:51: RuntimeWarning: divide by zero encountered in double_scalars\n",
      "/Users/pdh21/anaconda3/envs/new/lib/python3.6/site-packages/ipykernel/__main__.py:61: RuntimeWarning: invalid value encountered in true_divide\n",
      "/Users/pdh21/anaconda3/envs/new/lib/python3.6/site-packages/ipykernel/__main__.py:61: RuntimeWarning: divide by zero encountered in true_divide\n"
     ]
    },
    {
     "name": "stdout",
     "output_type": "stream",
     "text": [
      "Domain  NOR_1150_1_Domain.shp 166 5151\n"
     ]
    },
    {
     "name": "stderr",
     "output_type": "stream",
     "text": [
      "/Users/pdh21/anaconda3/envs/new/lib/python3.6/site-packages/ipykernel/__main__.py:51: RuntimeWarning: divide by zero encountered in double_scalars\n",
      "/Users/pdh21/anaconda3/envs/new/lib/python3.6/site-packages/ipykernel/__main__.py:61: RuntimeWarning: invalid value encountered in true_divide\n"
     ]
    },
    {
     "name": "stdout",
     "output_type": "stream",
     "text": [
      "Domain  NOR_1151_1_Domain.shp 167 5151\n",
      "Domain  NOR_1152_1_Domain.shp 168 5151\n"
     ]
    },
    {
     "name": "stderr",
     "output_type": "stream",
     "text": [
      "/Users/pdh21/anaconda3/envs/new/lib/python3.6/site-packages/ipykernel/__main__.py:51: RuntimeWarning: divide by zero encountered in double_scalars\n",
      "/Users/pdh21/anaconda3/envs/new/lib/python3.6/site-packages/ipykernel/__main__.py:61: RuntimeWarning: invalid value encountered in true_divide\n"
     ]
    },
    {
     "name": "stdout",
     "output_type": "stream",
     "text": [
      "Domain  NOR_1153_1_Domain.shp 169 5151\n",
      "Domain  NOR_1154_1_Domain.shp 170 5151\n",
      "Domain  NOR_1155_1_Domain.shp 171 5151\n",
      "Domain  NOR_1156_1_Domain.shp 172 5151\n",
      "Domain  NOR_1157_1_Domain.shp 173 5151\n"
     ]
    },
    {
     "name": "stderr",
     "output_type": "stream",
     "text": [
      "/Users/pdh21/anaconda3/envs/new/lib/python3.6/site-packages/ipykernel/__main__.py:51: RuntimeWarning: divide by zero encountered in double_scalars\n",
      "/Users/pdh21/anaconda3/envs/new/lib/python3.6/site-packages/ipykernel/__main__.py:61: RuntimeWarning: invalid value encountered in true_divide\n"
     ]
    },
    {
     "name": "stdout",
     "output_type": "stream",
     "text": [
      "Domain  NOR_1158_1_Domain.shp 174 5151\n",
      "Domain  NOR_1159_1_Domain.shp 175 5151\n",
      "Domain  NOR_115_1_Domain.shp 176 5151\n",
      "Domain  NOR_1160_1_Domain.shp 177 5151\n",
      "Domain  NOR_1161_1_Domain.shp 178 5151\n"
     ]
    },
    {
     "name": "stderr",
     "output_type": "stream",
     "text": [
      "/Users/pdh21/anaconda3/envs/new/lib/python3.6/site-packages/ipykernel/__main__.py:51: RuntimeWarning: divide by zero encountered in double_scalars\n",
      "/Users/pdh21/anaconda3/envs/new/lib/python3.6/site-packages/ipykernel/__main__.py:61: RuntimeWarning: invalid value encountered in true_divide\n"
     ]
    },
    {
     "name": "stdout",
     "output_type": "stream",
     "text": [
      "Domain  NOR_1162_1_Domain.shp 179 5151\n",
      "Domain  NOR_1163_1_Domain.shp 180 5151\n"
     ]
    },
    {
     "name": "stderr",
     "output_type": "stream",
     "text": [
      "/Users/pdh21/anaconda3/envs/new/lib/python3.6/site-packages/ipykernel/__main__.py:51: RuntimeWarning: divide by zero encountered in double_scalars\n",
      "/Users/pdh21/anaconda3/envs/new/lib/python3.6/site-packages/ipykernel/__main__.py:61: RuntimeWarning: divide by zero encountered in true_divide\n",
      "/Users/pdh21/anaconda3/envs/new/lib/python3.6/site-packages/ipykernel/__main__.py:61: RuntimeWarning: invalid value encountered in true_divide\n"
     ]
    },
    {
     "name": "stdout",
     "output_type": "stream",
     "text": [
      "Domain  NOR_1164_1_Domain.shp 181 5151\n",
      "Domain  NOR_1165_1_Domain.shp 182 5151\n"
     ]
    },
    {
     "name": "stderr",
     "output_type": "stream",
     "text": [
      "/Users/pdh21/anaconda3/envs/new/lib/python3.6/site-packages/ipykernel/__main__.py:51: RuntimeWarning: divide by zero encountered in double_scalars\n",
      "/Users/pdh21/anaconda3/envs/new/lib/python3.6/site-packages/ipykernel/__main__.py:61: RuntimeWarning: invalid value encountered in true_divide\n"
     ]
    },
    {
     "name": "stdout",
     "output_type": "stream",
     "text": [
      "Domain  NOR_1166_1_Domain.shp 183 5151\n",
      "Domain  NOR_1167_1_Domain.shp 184 5151\n"
     ]
    },
    {
     "name": "stderr",
     "output_type": "stream",
     "text": [
      "/Users/pdh21/anaconda3/envs/new/lib/python3.6/site-packages/ipykernel/__main__.py:51: RuntimeWarning: divide by zero encountered in double_scalars\n",
      "/Users/pdh21/anaconda3/envs/new/lib/python3.6/site-packages/ipykernel/__main__.py:61: RuntimeWarning: invalid value encountered in true_divide\n"
     ]
    },
    {
     "name": "stdout",
     "output_type": "stream",
     "text": [
      "Domain  NOR_1168_1_Domain.shp 185 5151\n",
      "Domain  NOR_1169_1_Domain.shp 186 5151\n"
     ]
    },
    {
     "name": "stderr",
     "output_type": "stream",
     "text": [
      "/Users/pdh21/anaconda3/envs/new/lib/python3.6/site-packages/ipykernel/__main__.py:51: RuntimeWarning: divide by zero encountered in double_scalars\n",
      "/Users/pdh21/anaconda3/envs/new/lib/python3.6/site-packages/ipykernel/__main__.py:61: RuntimeWarning: invalid value encountered in true_divide\n"
     ]
    },
    {
     "name": "stdout",
     "output_type": "stream",
     "text": [
      "Domain  NOR_116_1_Domain.shp 187 5151\n"
     ]
    },
    {
     "name": "stderr",
     "output_type": "stream",
     "text": [
      "/Users/pdh21/anaconda3/envs/new/lib/python3.6/site-packages/ipykernel/__main__.py:51: RuntimeWarning: divide by zero encountered in double_scalars\n",
      "/Users/pdh21/anaconda3/envs/new/lib/python3.6/site-packages/ipykernel/__main__.py:61: RuntimeWarning: invalid value encountered in true_divide\n"
     ]
    },
    {
     "name": "stdout",
     "output_type": "stream",
     "text": [
      "Domain  NOR_1170_1_Domain.shp 188 5151\n"
     ]
    },
    {
     "name": "stderr",
     "output_type": "stream",
     "text": [
      "/Users/pdh21/anaconda3/envs/new/lib/python3.6/site-packages/ipykernel/__main__.py:51: RuntimeWarning: divide by zero encountered in double_scalars\n",
      "/Users/pdh21/anaconda3/envs/new/lib/python3.6/site-packages/ipykernel/__main__.py:61: RuntimeWarning: invalid value encountered in true_divide\n"
     ]
    },
    {
     "name": "stdout",
     "output_type": "stream",
     "text": [
      "Domain  NOR_1171_1_Domain.shp 189 5151\n"
     ]
    },
    {
     "name": "stderr",
     "output_type": "stream",
     "text": [
      "/Users/pdh21/anaconda3/envs/new/lib/python3.6/site-packages/ipykernel/__main__.py:51: RuntimeWarning: divide by zero encountered in double_scalars\n",
      "/Users/pdh21/anaconda3/envs/new/lib/python3.6/site-packages/ipykernel/__main__.py:61: RuntimeWarning: invalid value encountered in true_divide\n"
     ]
    },
    {
     "name": "stdout",
     "output_type": "stream",
     "text": [
      "Domain  NOR_1172_1_Domain.shp 190 5151\n"
     ]
    },
    {
     "name": "stderr",
     "output_type": "stream",
     "text": [
      "/Users/pdh21/anaconda3/envs/new/lib/python3.6/site-packages/ipykernel/__main__.py:51: RuntimeWarning: divide by zero encountered in double_scalars\n",
      "/Users/pdh21/anaconda3/envs/new/lib/python3.6/site-packages/ipykernel/__main__.py:61: RuntimeWarning: invalid value encountered in true_divide\n",
      "/Users/pdh21/anaconda3/envs/new/lib/python3.6/site-packages/ipykernel/__main__.py:61: RuntimeWarning: divide by zero encountered in true_divide\n",
      "/Users/pdh21/anaconda3/envs/new/lib/python3.6/site-packages/ipykernel/__main__.py:51: RuntimeWarning: divide by zero encountered in double_scalars\n",
      "/Users/pdh21/anaconda3/envs/new/lib/python3.6/site-packages/ipykernel/__main__.py:61: RuntimeWarning: divide by zero encountered in true_divide\n",
      "/Users/pdh21/anaconda3/envs/new/lib/python3.6/site-packages/ipykernel/__main__.py:61: RuntimeWarning: invalid value encountered in true_divide\n"
     ]
    },
    {
     "name": "stdout",
     "output_type": "stream",
     "text": [
      "Domain  NOR_1173_1_Domain.shp 191 5151\n",
      "Domain  NOR_1174_1_Domain.shp 192 5151\n"
     ]
    },
    {
     "name": "stderr",
     "output_type": "stream",
     "text": [
      "/Users/pdh21/anaconda3/envs/new/lib/python3.6/site-packages/ipykernel/__main__.py:51: RuntimeWarning: divide by zero encountered in double_scalars\n",
      "/Users/pdh21/anaconda3/envs/new/lib/python3.6/site-packages/ipykernel/__main__.py:61: RuntimeWarning: invalid value encountered in true_divide\n"
     ]
    },
    {
     "name": "stdout",
     "output_type": "stream",
     "text": [
      "Domain  NOR_1175_1_Domain.shp 193 5151\n",
      "Domain  NOR_1176_1_Domain.shp 194 5151\n",
      "Domain  NOR_1177_1_Domain.shp 195 5151\n",
      "Domain  NOR_1178_1_Domain.shp 196 5151\n"
     ]
    },
    {
     "name": "stderr",
     "output_type": "stream",
     "text": [
      "/Users/pdh21/anaconda3/envs/new/lib/python3.6/site-packages/ipykernel/__main__.py:51: RuntimeWarning: divide by zero encountered in double_scalars\n",
      "/Users/pdh21/anaconda3/envs/new/lib/python3.6/site-packages/ipykernel/__main__.py:61: RuntimeWarning: invalid value encountered in true_divide\n",
      "/Users/pdh21/anaconda3/envs/new/lib/python3.6/site-packages/ipykernel/__main__.py:61: RuntimeWarning: divide by zero encountered in true_divide\n"
     ]
    },
    {
     "name": "stdout",
     "output_type": "stream",
     "text": [
      "Domain  NOR_1179_1_Domain.shp 197 5151\n"
     ]
    },
    {
     "name": "stderr",
     "output_type": "stream",
     "text": [
      "/Users/pdh21/anaconda3/envs/new/lib/python3.6/site-packages/ipykernel/__main__.py:51: RuntimeWarning: divide by zero encountered in double_scalars\n",
      "/Users/pdh21/anaconda3/envs/new/lib/python3.6/site-packages/ipykernel/__main__.py:61: RuntimeWarning: invalid value encountered in true_divide\n"
     ]
    },
    {
     "name": "stdout",
     "output_type": "stream",
     "text": [
      "Domain  NOR_117_1_Domain.shp 198 5151\n",
      "Domain  NOR_1180_1_Domain.shp 199 5151\n"
     ]
    },
    {
     "name": "stderr",
     "output_type": "stream",
     "text": [
      "/Users/pdh21/anaconda3/envs/new/lib/python3.6/site-packages/ipykernel/__main__.py:51: RuntimeWarning: divide by zero encountered in double_scalars\n",
      "/Users/pdh21/anaconda3/envs/new/lib/python3.6/site-packages/ipykernel/__main__.py:61: RuntimeWarning: invalid value encountered in true_divide\n"
     ]
    },
    {
     "name": "stdout",
     "output_type": "stream",
     "text": [
      "Domain  NOR_1181_1_Domain.shp 200 5151\n"
     ]
    },
    {
     "name": "stderr",
     "output_type": "stream",
     "text": [
      "/Users/pdh21/anaconda3/envs/new/lib/python3.6/site-packages/ipykernel/__main__.py:51: RuntimeWarning: divide by zero encountered in double_scalars\n",
      "/Users/pdh21/anaconda3/envs/new/lib/python3.6/site-packages/ipykernel/__main__.py:61: RuntimeWarning: invalid value encountered in true_divide\n",
      "/Users/pdh21/anaconda3/envs/new/lib/python3.6/site-packages/ipykernel/__main__.py:61: RuntimeWarning: divide by zero encountered in true_divide\n"
     ]
    },
    {
     "name": "stdout",
     "output_type": "stream",
     "text": [
      "Domain  NOR_1182_1_Domain.shp 201 5151\n"
     ]
    },
    {
     "name": "stderr",
     "output_type": "stream",
     "text": [
      "/Users/pdh21/anaconda3/envs/new/lib/python3.6/site-packages/ipykernel/__main__.py:51: RuntimeWarning: divide by zero encountered in double_scalars\n",
      "/Users/pdh21/anaconda3/envs/new/lib/python3.6/site-packages/ipykernel/__main__.py:61: RuntimeWarning: divide by zero encountered in true_divide\n",
      "/Users/pdh21/anaconda3/envs/new/lib/python3.6/site-packages/ipykernel/__main__.py:61: RuntimeWarning: invalid value encountered in true_divide\n"
     ]
    },
    {
     "name": "stdout",
     "output_type": "stream",
     "text": [
      "Domain  NOR_1183_1_Domain.shp 202 5151\n"
     ]
    },
    {
     "name": "stderr",
     "output_type": "stream",
     "text": [
      "/Users/pdh21/anaconda3/envs/new/lib/python3.6/site-packages/ipykernel/__main__.py:51: RuntimeWarning: divide by zero encountered in double_scalars\n",
      "/Users/pdh21/anaconda3/envs/new/lib/python3.6/site-packages/ipykernel/__main__.py:61: RuntimeWarning: invalid value encountered in true_divide\n"
     ]
    },
    {
     "name": "stdout",
     "output_type": "stream",
     "text": [
      "Domain  NOR_1184_1_Domain.shp 203 5151\n",
      "Domain  NOR_1185_1_Domain.shp 204 5151\n"
     ]
    },
    {
     "name": "stderr",
     "output_type": "stream",
     "text": [
      "/Users/pdh21/anaconda3/envs/new/lib/python3.6/site-packages/ipykernel/__main__.py:51: RuntimeWarning: divide by zero encountered in double_scalars\n",
      "/Users/pdh21/anaconda3/envs/new/lib/python3.6/site-packages/ipykernel/__main__.py:61: RuntimeWarning: invalid value encountered in true_divide\n"
     ]
    },
    {
     "name": "stdout",
     "output_type": "stream",
     "text": [
      "Domain  NOR_1186_1_Domain.shp 205 5151\n"
     ]
    },
    {
     "name": "stderr",
     "output_type": "stream",
     "text": [
      "/Users/pdh21/anaconda3/envs/new/lib/python3.6/site-packages/ipykernel/__main__.py:51: RuntimeWarning: divide by zero encountered in double_scalars\n",
      "/Users/pdh21/anaconda3/envs/new/lib/python3.6/site-packages/ipykernel/__main__.py:61: RuntimeWarning: invalid value encountered in true_divide\n"
     ]
    },
    {
     "name": "stdout",
     "output_type": "stream",
     "text": [
      "Domain  NOR_1187_1_Domain.shp 206 5151\n"
     ]
    },
    {
     "name": "stderr",
     "output_type": "stream",
     "text": [
      "/Users/pdh21/anaconda3/envs/new/lib/python3.6/site-packages/ipykernel/__main__.py:51: RuntimeWarning: divide by zero encountered in double_scalars\n",
      "/Users/pdh21/anaconda3/envs/new/lib/python3.6/site-packages/ipykernel/__main__.py:61: RuntimeWarning: invalid value encountered in true_divide\n"
     ]
    },
    {
     "name": "stdout",
     "output_type": "stream",
     "text": [
      "Domain  NOR_1188_1_Domain.shp 207 5151\n",
      "Domain  NOR_1189_1_Domain.shp 208 5151\n",
      "Domain  NOR_118_1_Domain.shp 209 5151\n"
     ]
    },
    {
     "name": "stderr",
     "output_type": "stream",
     "text": [
      "/Users/pdh21/anaconda3/envs/new/lib/python3.6/site-packages/ipykernel/__main__.py:51: RuntimeWarning: divide by zero encountered in double_scalars\n",
      "/Users/pdh21/anaconda3/envs/new/lib/python3.6/site-packages/ipykernel/__main__.py:61: RuntimeWarning: invalid value encountered in true_divide\n",
      "/Users/pdh21/anaconda3/envs/new/lib/python3.6/site-packages/ipykernel/__main__.py:61: RuntimeWarning: divide by zero encountered in true_divide\n"
     ]
    },
    {
     "name": "stdout",
     "output_type": "stream",
     "text": [
      "Domain  NOR_1190_1_Domain.shp 210 5151\n"
     ]
    },
    {
     "name": "stderr",
     "output_type": "stream",
     "text": [
      "/Users/pdh21/anaconda3/envs/new/lib/python3.6/site-packages/ipykernel/__main__.py:51: RuntimeWarning: divide by zero encountered in double_scalars\n",
      "/Users/pdh21/anaconda3/envs/new/lib/python3.6/site-packages/ipykernel/__main__.py:61: RuntimeWarning: invalid value encountered in true_divide\n"
     ]
    },
    {
     "name": "stdout",
     "output_type": "stream",
     "text": [
      "Domain  NOR_1191_1_Domain.shp 211 5151\n",
      "Domain  NOR_1192_1_Domain.shp 212 5151\n"
     ]
    },
    {
     "name": "stderr",
     "output_type": "stream",
     "text": [
      "/Users/pdh21/anaconda3/envs/new/lib/python3.6/site-packages/ipykernel/__main__.py:51: RuntimeWarning: divide by zero encountered in double_scalars\n",
      "/Users/pdh21/anaconda3/envs/new/lib/python3.6/site-packages/ipykernel/__main__.py:61: RuntimeWarning: invalid value encountered in true_divide\n"
     ]
    },
    {
     "name": "stdout",
     "output_type": "stream",
     "text": [
      "Domain  NOR_1193_1_Domain.shp 213 5151\n"
     ]
    },
    {
     "name": "stderr",
     "output_type": "stream",
     "text": [
      "/Users/pdh21/anaconda3/envs/new/lib/python3.6/site-packages/ipykernel/__main__.py:51: RuntimeWarning: divide by zero encountered in double_scalars\n",
      "/Users/pdh21/anaconda3/envs/new/lib/python3.6/site-packages/ipykernel/__main__.py:61: RuntimeWarning: invalid value encountered in true_divide\n"
     ]
    },
    {
     "name": "stdout",
     "output_type": "stream",
     "text": [
      "Domain  NOR_1194_1_Domain.shp 214 5151\n",
      "Domain  NOR_1195_1_Domain.shp 215 5151\n",
      "Domain  NOR_1196_1_Domain.shp 216 5151\n",
      "Domain  NOR_1197_1_Domain.shp 217 5151\n",
      "Domain  NOR_1198_1_Domain.shp 218 5151\n",
      "Domain  NOR_1199_1_Domain.shp 219 5151\n"
     ]
    },
    {
     "name": "stderr",
     "output_type": "stream",
     "text": [
      "/Users/pdh21/anaconda3/envs/new/lib/python3.6/site-packages/ipykernel/__main__.py:51: RuntimeWarning: divide by zero encountered in double_scalars\n",
      "/Users/pdh21/anaconda3/envs/new/lib/python3.6/site-packages/ipykernel/__main__.py:61: RuntimeWarning: invalid value encountered in true_divide\n"
     ]
    },
    {
     "name": "stdout",
     "output_type": "stream",
     "text": [
      "Domain  NOR_119_1_Domain.shp 220 5151\n",
      "Domain  NOR_11_1_Domain.shp 221 5151\n"
     ]
    },
    {
     "name": "stderr",
     "output_type": "stream",
     "text": [
      "/Users/pdh21/anaconda3/envs/new/lib/python3.6/site-packages/ipykernel/__main__.py:51: RuntimeWarning: divide by zero encountered in double_scalars\n",
      "/Users/pdh21/anaconda3/envs/new/lib/python3.6/site-packages/ipykernel/__main__.py:61: RuntimeWarning: invalid value encountered in true_divide\n"
     ]
    },
    {
     "name": "stdout",
     "output_type": "stream",
     "text": [
      "Domain  NOR_1200_1_Domain.shp 222 5151\n"
     ]
    },
    {
     "name": "stderr",
     "output_type": "stream",
     "text": [
      "/Users/pdh21/anaconda3/envs/new/lib/python3.6/site-packages/ipykernel/__main__.py:51: RuntimeWarning: divide by zero encountered in double_scalars\n",
      "/Users/pdh21/anaconda3/envs/new/lib/python3.6/site-packages/ipykernel/__main__.py:61: RuntimeWarning: invalid value encountered in true_divide\n"
     ]
    },
    {
     "name": "stdout",
     "output_type": "stream",
     "text": [
      "Domain  NOR_1201_1_Domain.shp 223 5151\n",
      "Domain  NOR_1202_1_Domain.shp 224 5151\n"
     ]
    },
    {
     "name": "stderr",
     "output_type": "stream",
     "text": [
      "/Users/pdh21/anaconda3/envs/new/lib/python3.6/site-packages/ipykernel/__main__.py:51: RuntimeWarning: divide by zero encountered in double_scalars\n",
      "/Users/pdh21/anaconda3/envs/new/lib/python3.6/site-packages/ipykernel/__main__.py:61: RuntimeWarning: invalid value encountered in true_divide\n"
     ]
    },
    {
     "name": "stdout",
     "output_type": "stream",
     "text": [
      "Domain  NOR_1203_1_Domain.shp 225 5151\n"
     ]
    },
    {
     "name": "stderr",
     "output_type": "stream",
     "text": [
      "/Users/pdh21/anaconda3/envs/new/lib/python3.6/site-packages/ipykernel/__main__.py:51: RuntimeWarning: divide by zero encountered in double_scalars\n",
      "/Users/pdh21/anaconda3/envs/new/lib/python3.6/site-packages/ipykernel/__main__.py:61: RuntimeWarning: invalid value encountered in true_divide\n",
      "/Users/pdh21/anaconda3/envs/new/lib/python3.6/site-packages/ipykernel/__main__.py:61: RuntimeWarning: divide by zero encountered in true_divide\n"
     ]
    },
    {
     "name": "stdout",
     "output_type": "stream",
     "text": [
      "Domain  NOR_1204_1_Domain.shp 226 5151\n"
     ]
    },
    {
     "name": "stderr",
     "output_type": "stream",
     "text": [
      "/Users/pdh21/anaconda3/envs/new/lib/python3.6/site-packages/ipykernel/__main__.py:51: RuntimeWarning: divide by zero encountered in double_scalars\n",
      "/Users/pdh21/anaconda3/envs/new/lib/python3.6/site-packages/ipykernel/__main__.py:61: RuntimeWarning: invalid value encountered in true_divide\n",
      "/Users/pdh21/anaconda3/envs/new/lib/python3.6/site-packages/ipykernel/__main__.py:61: RuntimeWarning: divide by zero encountered in true_divide\n"
     ]
    },
    {
     "name": "stdout",
     "output_type": "stream",
     "text": [
      "Domain  NOR_1205_1_Domain.shp 227 5151\n"
     ]
    },
    {
     "name": "stderr",
     "output_type": "stream",
     "text": [
      "/Users/pdh21/anaconda3/envs/new/lib/python3.6/site-packages/ipykernel/__main__.py:51: RuntimeWarning: divide by zero encountered in double_scalars\n",
      "/Users/pdh21/anaconda3/envs/new/lib/python3.6/site-packages/ipykernel/__main__.py:61: RuntimeWarning: invalid value encountered in true_divide\n"
     ]
    },
    {
     "name": "stdout",
     "output_type": "stream",
     "text": [
      "Domain  NOR_1206_1_Domain.shp 228 5151\n",
      "Domain  NOR_1207_1_Domain.shp 229 5151\n"
     ]
    },
    {
     "name": "stderr",
     "output_type": "stream",
     "text": [
      "/Users/pdh21/anaconda3/envs/new/lib/python3.6/site-packages/ipykernel/__main__.py:51: RuntimeWarning: divide by zero encountered in double_scalars\n",
      "/Users/pdh21/anaconda3/envs/new/lib/python3.6/site-packages/ipykernel/__main__.py:61: RuntimeWarning: invalid value encountered in true_divide\n"
     ]
    },
    {
     "name": "stdout",
     "output_type": "stream",
     "text": [
      "Domain  NOR_1208_1_Domain.shp 230 5151\n"
     ]
    },
    {
     "name": "stderr",
     "output_type": "stream",
     "text": [
      "/Users/pdh21/anaconda3/envs/new/lib/python3.6/site-packages/ipykernel/__main__.py:51: RuntimeWarning: divide by zero encountered in double_scalars\n",
      "/Users/pdh21/anaconda3/envs/new/lib/python3.6/site-packages/ipykernel/__main__.py:61: RuntimeWarning: invalid value encountered in true_divide\n"
     ]
    },
    {
     "name": "stdout",
     "output_type": "stream",
     "text": [
      "Domain  NOR_1209_1_Domain.shp 231 5151\n"
     ]
    },
    {
     "name": "stderr",
     "output_type": "stream",
     "text": [
      "/Users/pdh21/anaconda3/envs/new/lib/python3.6/site-packages/ipykernel/__main__.py:51: RuntimeWarning: divide by zero encountered in double_scalars\n",
      "/Users/pdh21/anaconda3/envs/new/lib/python3.6/site-packages/ipykernel/__main__.py:61: RuntimeWarning: invalid value encountered in true_divide\n"
     ]
    },
    {
     "name": "stdout",
     "output_type": "stream",
     "text": [
      "Domain  NOR_120_1_Domain.shp 232 5151\n",
      "Domain  NOR_1210_1_Domain.shp 233 5151\n"
     ]
    },
    {
     "name": "stderr",
     "output_type": "stream",
     "text": [
      "/Users/pdh21/anaconda3/envs/new/lib/python3.6/site-packages/ipykernel/__main__.py:51: RuntimeWarning: divide by zero encountered in double_scalars\n",
      "/Users/pdh21/anaconda3/envs/new/lib/python3.6/site-packages/ipykernel/__main__.py:61: RuntimeWarning: invalid value encountered in true_divide\n"
     ]
    },
    {
     "name": "stdout",
     "output_type": "stream",
     "text": [
      "Domain  NOR_1211_1_Domain.shp 234 5151\n",
      "Domain  NOR_1212_1_Domain.shp 235 5151\n",
      "Domain  NOR_1213_1_Domain.shp 236 5151\n"
     ]
    },
    {
     "name": "stderr",
     "output_type": "stream",
     "text": [
      "/Users/pdh21/anaconda3/envs/new/lib/python3.6/site-packages/ipykernel/__main__.py:51: RuntimeWarning: divide by zero encountered in double_scalars\n",
      "/Users/pdh21/anaconda3/envs/new/lib/python3.6/site-packages/ipykernel/__main__.py:61: RuntimeWarning: invalid value encountered in true_divide\n",
      "/Users/pdh21/anaconda3/envs/new/lib/python3.6/site-packages/ipykernel/__main__.py:51: RuntimeWarning: divide by zero encountered in double_scalars\n",
      "/Users/pdh21/anaconda3/envs/new/lib/python3.6/site-packages/ipykernel/__main__.py:61: RuntimeWarning: invalid value encountered in true_divide\n"
     ]
    },
    {
     "name": "stdout",
     "output_type": "stream",
     "text": [
      "Domain  NOR_1214_1_Domain.shp 237 5151\n",
      "Domain  NOR_1215_1_Domain.shp 238 5151\n",
      "Domain  NOR_1216_1_Domain.shp 239 5151\n"
     ]
    },
    {
     "name": "stderr",
     "output_type": "stream",
     "text": [
      "/Users/pdh21/anaconda3/envs/new/lib/python3.6/site-packages/ipykernel/__main__.py:51: RuntimeWarning: divide by zero encountered in double_scalars\n",
      "/Users/pdh21/anaconda3/envs/new/lib/python3.6/site-packages/ipykernel/__main__.py:61: RuntimeWarning: invalid value encountered in true_divide\n",
      "/Users/pdh21/anaconda3/envs/new/lib/python3.6/site-packages/ipykernel/__main__.py:61: RuntimeWarning: divide by zero encountered in true_divide\n"
     ]
    },
    {
     "name": "stdout",
     "output_type": "stream",
     "text": [
      "Domain  NOR_1217_1_Domain.shp 240 5151\n",
      "Domain  NOR_1218_1_Domain.shp 241 5151\n"
     ]
    },
    {
     "name": "stderr",
     "output_type": "stream",
     "text": [
      "/Users/pdh21/anaconda3/envs/new/lib/python3.6/site-packages/ipykernel/__main__.py:51: RuntimeWarning: divide by zero encountered in double_scalars\n",
      "/Users/pdh21/anaconda3/envs/new/lib/python3.6/site-packages/ipykernel/__main__.py:61: RuntimeWarning: invalid value encountered in true_divide\n"
     ]
    },
    {
     "name": "stdout",
     "output_type": "stream",
     "text": [
      "Domain  NOR_1219_1_Domain.shp 242 5151\n",
      "Domain  NOR_121_1_Domain.shp 243 5151\n"
     ]
    },
    {
     "name": "stderr",
     "output_type": "stream",
     "text": [
      "/Users/pdh21/anaconda3/envs/new/lib/python3.6/site-packages/ipykernel/__main__.py:51: RuntimeWarning: divide by zero encountered in double_scalars\n",
      "/Users/pdh21/anaconda3/envs/new/lib/python3.6/site-packages/ipykernel/__main__.py:61: RuntimeWarning: divide by zero encountered in true_divide\n"
     ]
    },
    {
     "name": "stdout",
     "output_type": "stream",
     "text": [
      "Domain  NOR_1220_1_Domain.shp 244 5151\n",
      "Domain  NOR_1221_1_Domain.shp 245 5151\n"
     ]
    },
    {
     "name": "stderr",
     "output_type": "stream",
     "text": [
      "/Users/pdh21/anaconda3/envs/new/lib/python3.6/site-packages/ipykernel/__main__.py:51: RuntimeWarning: divide by zero encountered in double_scalars\n",
      "/Users/pdh21/anaconda3/envs/new/lib/python3.6/site-packages/ipykernel/__main__.py:61: RuntimeWarning: invalid value encountered in true_divide\n"
     ]
    },
    {
     "name": "stdout",
     "output_type": "stream",
     "text": [
      "Domain  NOR_1222_1_Domain.shp 246 5151\n"
     ]
    }
   ],
   "source": [
    "df=[]\n",
    "for ii, s in enumerate(sfiles):\n",
    "    sf = shapefile.Reader(s)\n",
    "    sh_points=np.array(sf.shapes()[0].points)\n",
    "    xpix=np.arange(extent_lonlat[0],extent_lonlat[1],pixel_width)\n",
    "    ypix=np.arange(extent_lonlat[3],extent_lonlat[2],pixel_height)\n",
    "    \n",
    "# loop over shape points\n",
    "    points=np.ones((5000,3))\n",
    "    c=0\n",
    "    pix_dist=np.array([1,5])\n",
    "\n",
    "    for i in range(0,sh_points.shape[0]-1):        \n",
    "        #need to interpolate between points in shapefile\n",
    "        fx = interpolate.interp1d(sh_points[i:i+2,0],sh_points[i:i+2,1],kind='slinear',fill_value='extrapolate')\n",
    "        if sh_points[i,0]<sh_points[i+1,0]:\n",
    "            xnew=np.arange(sh_points[i,0],sh_points[i+1,0],pixel_width)\n",
    "        else:\n",
    "            xnew=np.arange(sh_points[i,0],sh_points[i+1,0],-pixel_width)\n",
    "        ynew=fx(xnew)\n",
    "        fy=interpolate.interp1d(sh_points[i:i+2,1],sh_points[i:i+2,0],kind='slinear',fill_value='extrapolate')\n",
    "        if sh_points[i,1]>sh_points[i+1,1]:\n",
    "            ynew_2=np.arange(sh_points[i,1],sh_points[i+1,1],pixel_height)\n",
    "        else:\n",
    "            ynew_2=np.arange(sh_points[i,1],sh_points[i+1,1],-pixel_height)\n",
    "        xnew_2=fy(ynew_2)\n",
    "        \n",
    "        for j in range(xnew.shape[0]-1):\n",
    "            try:\n",
    "                #calculate difference in x and y for tangent\n",
    "                dy=ynew[j+1]-ynew[j]\n",
    "                dx=xnew[j+1]-xnew[j]\n",
    "                angle=0.5*np.pi-np.arctan(dy/dx)\n",
    "                t_x=pix_dist*pixel_width*np.cos(angle)#ideally should be 0.5*pixel but more stable if 1.1\n",
    "                t_y=pix_dist*pixel_height*np.sin(angle)\n",
    "                #inner value\n",
    "                x_in=find_nearest(xpix,xnew[j]+t_x)\n",
    "                y_in=find_nearest(ypix,ynew[j]+t_y)\n",
    "                #outer value\n",
    "                x_out=find_nearest(xpix,xnew[j]-t_x)\n",
    "                y_out=find_nearest(ypix,ynew[j]-t_y)\n",
    "            \n",
    "                points[c,:]=[(np.max(arr[y_out,x_out])-np.max(arr[y_in,x_in]))/dx,xnew[j],ynew[j]]\n",
    "                c+=1\n",
    "            except(IndexError):\n",
    "                print('issue')\n",
    "        for j in range(xnew_2.shape[0]-1):\n",
    "            #calculate difference in x and y for tangent\n",
    "            dy=ynew_2[j+1]-ynew_2[j]\n",
    "            dx=xnew_2[j+1]-xnew_2[j]\n",
    "            angle=0.5*np.pi-np.arctan(dy/dx)\n",
    "            t_x=pix_dist*pixel_width*np.cos(angle)#ideally should be 0.5*pixel but more stable if 1.1\n",
    "            t_y=pix_dist*pixel_height*np.sin(angle)\n",
    "            #inner value\n",
    "            x_in=find_nearest(xpix,xnew_2[j]+t_x)\n",
    "            y_in=find_nearest(ypix,ynew_2[j]+t_y)\n",
    "        \n",
    "            #outer value\n",
    "            x_out=find_nearest(xpix,xnew_2[j]-t_x)\n",
    "            y_out=find_nearest(ypix,ynew_2[j]-t_y)\n",
    "            points[c,:]=[(np.max(arr[y_out,x_out])-np.max(arr[y_in,x_in]))/dx,xnew_2[j],ynew_2[j]]\n",
    "            c+=1\n",
    "    ind=points[:,0]<-100.0\n",
    "    if ind.sum()>0:\n",
    "        db = DBSCAN(eps=pixel_width*5, min_samples=10).fit(points[ind,1:3])\n",
    "        labels = db.labels_\n",
    "        ind_keep=labels>=0\n",
    "        data = {'Domain': s.split('/')[-1] * ind_keep.sum(),\n",
    "        'lat': points[ind,2][ind_keep],\n",
    "        'lon': points[ind,1][ind_keep]}\n",
    "\n",
    "        df.append(pd.DataFrame(data))\n",
    "    print('Domain ',s.split('/')[-1], ii,len(sfiles))\n",
    "alldf = pd.concat(df)\n",
    "geometry = [Point(xy) for xy in zip(alldf['lon'],alldf['lat'])]\n",
    "gdf = GeoDataFrame(alldf, geometry=geometry)\n",
    "gdf.to_file(filename='./final_solution')"
   ]
  },
  {
   "cell_type": "code",
   "execution_count": 24,
   "metadata": {},
   "outputs": [
    {
     "data": {
      "text/html": [
       "<div>\n",
       "<style>\n",
       "    .dataframe thead tr:only-child th {\n",
       "        text-align: right;\n",
       "    }\n",
       "\n",
       "    .dataframe thead th {\n",
       "        text-align: left;\n",
       "    }\n",
       "\n",
       "    .dataframe tbody tr th {\n",
       "        vertical-align: top;\n",
       "    }\n",
       "</style>\n",
       "<table border=\"1\" class=\"dataframe\">\n",
       "  <thead>\n",
       "    <tr style=\"text-align: right;\">\n",
       "      <th></th>\n",
       "      <th>Domain</th>\n",
       "      <th>lat</th>\n",
       "      <th>lon</th>\n",
       "      <th>geometry</th>\n",
       "    </tr>\n",
       "  </thead>\n",
       "  <tbody>\n",
       "    <tr>\n",
       "      <th>0</th>\n",
       "      <td>NOR_5072_1_Domain.shpNOR_5072_1_Domain.shpNOR_...</td>\n",
       "      <td>644932.345343</td>\n",
       "      <td>406442.358619</td>\n",
       "      <td>POINT (406442.358619108 644932.3453433516)</td>\n",
       "    </tr>\n",
       "    <tr>\n",
       "      <th>1</th>\n",
       "      <td>NOR_5072_1_Domain.shpNOR_5072_1_Domain.shpNOR_...</td>\n",
       "      <td>644927.076443</td>\n",
       "      <td>406437.358619</td>\n",
       "      <td>POINT (406437.358619108 644927.0764427251)</td>\n",
       "    </tr>\n",
       "    <tr>\n",
       "      <th>2</th>\n",
       "      <td>NOR_5072_1_Domain.shpNOR_5072_1_Domain.shpNOR_...</td>\n",
       "      <td>644933.152045</td>\n",
       "      <td>406443.124151</td>\n",
       "      <td>POINT (406443.1241506074 644933.1520452308)</td>\n",
       "    </tr>\n",
       "    <tr>\n",
       "      <th>3</th>\n",
       "      <td>NOR_5072_1_Domain.shpNOR_5072_1_Domain.shpNOR_...</td>\n",
       "      <td>644928.152045</td>\n",
       "      <td>406438.379328</td>\n",
       "      <td>POINT (406438.3793277738 644928.1520452308)</td>\n",
       "    </tr>\n",
       "    <tr>\n",
       "      <th>4</th>\n",
       "      <td>NOR_5072_1_Domain.shpNOR_5072_1_Domain.shpNOR_...</td>\n",
       "      <td>644919.669914</td>\n",
       "      <td>406430.330086</td>\n",
       "      <td>POINT (406430.3300858899 644919.6699141101)</td>\n",
       "    </tr>\n",
       "    <tr>\n",
       "      <th>5</th>\n",
       "      <td>NOR_5072_1_Domain.shpNOR_5072_1_Domain.shpNOR_...</td>\n",
       "      <td>644914.925091</td>\n",
       "      <td>406425.330086</td>\n",
       "      <td>POINT (406425.3300858899 644914.9250912764)</td>\n",
       "    </tr>\n",
       "    <tr>\n",
       "      <th>6</th>\n",
       "      <td>NOR_5072_1_Domain.shpNOR_5072_1_Domain.shpNOR_...</td>\n",
       "      <td>644910.180268</td>\n",
       "      <td>406420.330086</td>\n",
       "      <td>POINT (406420.3300858899 644910.180268443)</td>\n",
       "    </tr>\n",
       "    <tr>\n",
       "      <th>7</th>\n",
       "      <td>NOR_5072_1_Domain.shpNOR_5072_1_Domain.shpNOR_...</td>\n",
       "      <td>644905.435446</td>\n",
       "      <td>406415.330086</td>\n",
       "      <td>POINT (406415.3300858899 644905.4354456093)</td>\n",
       "    </tr>\n",
       "    <tr>\n",
       "      <th>8</th>\n",
       "      <td>NOR_5072_1_Domain.shpNOR_5072_1_Domain.shpNOR_...</td>\n",
       "      <td>644900.690623</td>\n",
       "      <td>406410.330086</td>\n",
       "      <td>POINT (406410.3300858899 644900.6906227757)</td>\n",
       "    </tr>\n",
       "    <tr>\n",
       "      <th>9</th>\n",
       "      <td>NOR_5072_1_Domain.shpNOR_5072_1_Domain.shpNOR_...</td>\n",
       "      <td>644919.669914</td>\n",
       "      <td>406430.330086</td>\n",
       "      <td>POINT (406430.3300858899 644919.6699141101)</td>\n",
       "    </tr>\n",
       "    <tr>\n",
       "      <th>10</th>\n",
       "      <td>NOR_5072_1_Domain.shpNOR_5072_1_Domain.shpNOR_...</td>\n",
       "      <td>644914.669914</td>\n",
       "      <td>406425.061185</td>\n",
       "      <td>POINT (406425.0611852636 644914.6699141101)</td>\n",
       "    </tr>\n",
       "    <tr>\n",
       "      <th>11</th>\n",
       "      <td>NOR_5072_1_Domain.shpNOR_5072_1_Domain.shpNOR_...</td>\n",
       "      <td>644909.669914</td>\n",
       "      <td>406419.792285</td>\n",
       "      <td>POINT (406419.7922846372 644909.6699141101)</td>\n",
       "    </tr>\n",
       "    <tr>\n",
       "      <th>12</th>\n",
       "      <td>NOR_5072_1_Domain.shpNOR_5072_1_Domain.shpNOR_...</td>\n",
       "      <td>644904.669914</td>\n",
       "      <td>406414.523384</td>\n",
       "      <td>POINT (406414.5233840108 644904.6699141101)</td>\n",
       "    </tr>\n",
       "    <tr>\n",
       "      <th>13</th>\n",
       "      <td>NOR_5072_1_Domain.shpNOR_5072_1_Domain.shpNOR_...</td>\n",
       "      <td>644859.669914</td>\n",
       "      <td>406370.330086</td>\n",
       "      <td>POINT (406370.3300858859 644859.6699141071)</td>\n",
       "    </tr>\n",
       "    <tr>\n",
       "      <th>14</th>\n",
       "      <td>NOR_5072_1_Domain.shpNOR_5072_1_Domain.shpNOR_...</td>\n",
       "      <td>644854.669914</td>\n",
       "      <td>406365.330086</td>\n",
       "      <td>POINT (406365.3300858859 644854.6699141073)</td>\n",
       "    </tr>\n",
       "    <tr>\n",
       "      <th>15</th>\n",
       "      <td>NOR_5072_1_Domain.shpNOR_5072_1_Domain.shpNOR_...</td>\n",
       "      <td>644849.669914</td>\n",
       "      <td>406360.330086</td>\n",
       "      <td>POINT (406360.3300858859 644849.6699141073)</td>\n",
       "    </tr>\n",
       "    <tr>\n",
       "      <th>16</th>\n",
       "      <td>NOR_5072_1_Domain.shpNOR_5072_1_Domain.shpNOR_...</td>\n",
       "      <td>644844.669914</td>\n",
       "      <td>406355.330086</td>\n",
       "      <td>POINT (406355.3300858859 644844.6699141074)</td>\n",
       "    </tr>\n",
       "    <tr>\n",
       "      <th>17</th>\n",
       "      <td>NOR_5072_1_Domain.shpNOR_5072_1_Domain.shpNOR_...</td>\n",
       "      <td>644839.669914</td>\n",
       "      <td>406350.330086</td>\n",
       "      <td>POINT (406350.3300858859 644839.6699141075)</td>\n",
       "    </tr>\n",
       "    <tr>\n",
       "      <th>18</th>\n",
       "      <td>NOR_5072_1_Domain.shpNOR_5072_1_Domain.shpNOR_...</td>\n",
       "      <td>644834.669914</td>\n",
       "      <td>406345.330086</td>\n",
       "      <td>POINT (406345.3300858859 644834.6699141077)</td>\n",
       "    </tr>\n",
       "    <tr>\n",
       "      <th>19</th>\n",
       "      <td>NOR_5072_1_Domain.shpNOR_5072_1_Domain.shpNOR_...</td>\n",
       "      <td>644829.669914</td>\n",
       "      <td>406340.330086</td>\n",
       "      <td>POINT (406340.3300858859 644829.6699141078)</td>\n",
       "    </tr>\n",
       "    <tr>\n",
       "      <th>20</th>\n",
       "      <td>NOR_5072_1_Domain.shpNOR_5072_1_Domain.shpNOR_...</td>\n",
       "      <td>644824.669914</td>\n",
       "      <td>406335.330086</td>\n",
       "      <td>POINT (406335.3300858859 644824.6699141078)</td>\n",
       "    </tr>\n",
       "    <tr>\n",
       "      <th>21</th>\n",
       "      <td>NOR_5072_1_Domain.shpNOR_5072_1_Domain.shpNOR_...</td>\n",
       "      <td>644819.669914</td>\n",
       "      <td>406330.330086</td>\n",
       "      <td>POINT (406330.3300858859 644819.6699141079)</td>\n",
       "    </tr>\n",
       "    <tr>\n",
       "      <th>22</th>\n",
       "      <td>NOR_5072_1_Domain.shpNOR_5072_1_Domain.shpNOR_...</td>\n",
       "      <td>644814.669914</td>\n",
       "      <td>406325.330086</td>\n",
       "      <td>POINT (406325.3300858859 644814.669914108)</td>\n",
       "    </tr>\n",
       "    <tr>\n",
       "      <th>23</th>\n",
       "      <td>NOR_5072_1_Domain.shpNOR_5072_1_Domain.shpNOR_...</td>\n",
       "      <td>644809.669914</td>\n",
       "      <td>406320.330086</td>\n",
       "      <td>POINT (406320.3300858859 644809.6699141081)</td>\n",
       "    </tr>\n",
       "    <tr>\n",
       "      <th>24</th>\n",
       "      <td>NOR_5072_1_Domain.shpNOR_5072_1_Domain.shpNOR_...</td>\n",
       "      <td>644804.669914</td>\n",
       "      <td>406315.330086</td>\n",
       "      <td>POINT (406315.3300858859 644804.6699141082)</td>\n",
       "    </tr>\n",
       "    <tr>\n",
       "      <th>25</th>\n",
       "      <td>NOR_5072_1_Domain.shpNOR_5072_1_Domain.shpNOR_...</td>\n",
       "      <td>644799.669914</td>\n",
       "      <td>406310.330086</td>\n",
       "      <td>POINT (406310.3300858859 644799.6699141084)</td>\n",
       "    </tr>\n",
       "    <tr>\n",
       "      <th>26</th>\n",
       "      <td>NOR_5072_1_Domain.shpNOR_5072_1_Domain.shpNOR_...</td>\n",
       "      <td>644794.669914</td>\n",
       "      <td>406305.330086</td>\n",
       "      <td>POINT (406305.3300858859 644794.6699141084)</td>\n",
       "    </tr>\n",
       "    <tr>\n",
       "      <th>27</th>\n",
       "      <td>NOR_5072_1_Domain.shpNOR_5072_1_Domain.shpNOR_...</td>\n",
       "      <td>644789.669914</td>\n",
       "      <td>406300.330086</td>\n",
       "      <td>POINT (406300.3300858859 644789.6699141085)</td>\n",
       "    </tr>\n",
       "    <tr>\n",
       "      <th>28</th>\n",
       "      <td>NOR_5072_1_Domain.shpNOR_5072_1_Domain.shpNOR_...</td>\n",
       "      <td>644784.669914</td>\n",
       "      <td>406295.330086</td>\n",
       "      <td>POINT (406295.3300858859 644784.6699141085)</td>\n",
       "    </tr>\n",
       "    <tr>\n",
       "      <th>29</th>\n",
       "      <td>NOR_5072_1_Domain.shpNOR_5072_1_Domain.shpNOR_...</td>\n",
       "      <td>644779.669914</td>\n",
       "      <td>406290.330086</td>\n",
       "      <td>POINT (406290.3300858859 644779.6699141087)</td>\n",
       "    </tr>\n",
       "    <tr>\n",
       "      <th>...</th>\n",
       "      <td>...</td>\n",
       "      <td>...</td>\n",
       "      <td>...</td>\n",
       "      <td>...</td>\n",
       "    </tr>\n",
       "    <tr>\n",
       "      <th>73</th>\n",
       "      <td>NOR_5147_1_Domain.shpNOR_5147_1_Domain.shpNOR_...</td>\n",
       "      <td>644370.754055</td>\n",
       "      <td>405274.114284</td>\n",
       "      <td>POINT (405274.1142838269 644370.7540551015)</td>\n",
       "    </tr>\n",
       "    <tr>\n",
       "      <th>74</th>\n",
       "      <td>NOR_5147_1_Domain.shpNOR_5147_1_Domain.shpNOR_...</td>\n",
       "      <td>644369.553661</td>\n",
       "      <td>405269.114284</td>\n",
       "      <td>POINT (405269.1142838269 644369.5536613062)</td>\n",
       "    </tr>\n",
       "    <tr>\n",
       "      <th>75</th>\n",
       "      <td>NOR_5147_1_Domain.shpNOR_5147_1_Domain.shpNOR_...</td>\n",
       "      <td>644367.532492</td>\n",
       "      <td>405260.695508</td>\n",
       "      <td>POINT (405260.6955084161 644367.5324921525)</td>\n",
       "    </tr>\n",
       "    <tr>\n",
       "      <th>76</th>\n",
       "      <td>NOR_5147_1_Domain.shpNOR_5147_1_Domain.shpNOR_...</td>\n",
       "      <td>644336.907055</td>\n",
       "      <td>405200.000000</td>\n",
       "      <td>POINT (405200 644336.9070546706)</td>\n",
       "    </tr>\n",
       "    <tr>\n",
       "      <th>77</th>\n",
       "      <td>NOR_5147_1_Domain.shpNOR_5147_1_Domain.shpNOR_...</td>\n",
       "      <td>644331.745107</td>\n",
       "      <td>405190.492875</td>\n",
       "      <td>POINT (405190.4928748047 644331.7451068587)</td>\n",
       "    </tr>\n",
       "    <tr>\n",
       "      <th>78</th>\n",
       "      <td>NOR_5147_1_Domain.shpNOR_5147_1_Domain.shpNOR_...</td>\n",
       "      <td>644324.590474</td>\n",
       "      <td>405175.492875</td>\n",
       "      <td>POINT (405175.4928748047 644324.5904738682)</td>\n",
       "    </tr>\n",
       "    <tr>\n",
       "      <th>79</th>\n",
       "      <td>NOR_5147_1_Domain.shpNOR_5147_1_Domain.shpNOR_...</td>\n",
       "      <td>644322.205596</td>\n",
       "      <td>405170.492875</td>\n",
       "      <td>POINT (405170.4928748047 644322.2055962048)</td>\n",
       "    </tr>\n",
       "    <tr>\n",
       "      <th>80</th>\n",
       "      <td>NOR_5147_1_Domain.shpNOR_5147_1_Domain.shpNOR_...</td>\n",
       "      <td>644319.820719</td>\n",
       "      <td>405165.492875</td>\n",
       "      <td>POINT (405165.4928748047 644319.8207185413)</td>\n",
       "    </tr>\n",
       "    <tr>\n",
       "      <th>81</th>\n",
       "      <td>NOR_5147_1_Domain.shpNOR_5147_1_Domain.shpNOR_...</td>\n",
       "      <td>644317.435841</td>\n",
       "      <td>405160.492875</td>\n",
       "      <td>POINT (405160.4928748047 644317.4358408777)</td>\n",
       "    </tr>\n",
       "    <tr>\n",
       "      <th>82</th>\n",
       "      <td>NOR_5147_1_Domain.shpNOR_5147_1_Domain.shpNOR_...</td>\n",
       "      <td>644331.745107</td>\n",
       "      <td>405190.492875</td>\n",
       "      <td>POINT (405190.4928748047 644331.7451068587)</td>\n",
       "    </tr>\n",
       "    <tr>\n",
       "      <th>83</th>\n",
       "      <td>NOR_5147_1_Domain.shpNOR_5147_1_Domain.shpNOR_...</td>\n",
       "      <td>644321.745107</td>\n",
       "      <td>405169.527439</td>\n",
       "      <td>POINT (405169.5274388136 644321.7451068587)</td>\n",
       "    </tr>\n",
       "    <tr>\n",
       "      <th>84</th>\n",
       "      <td>NOR_5147_1_Domain.shpNOR_5147_1_Domain.shpNOR_...</td>\n",
       "      <td>644314.840907</td>\n",
       "      <td>405155.052482</td>\n",
       "      <td>POINT (405155.0524823068 644314.8409067681)</td>\n",
       "    </tr>\n",
       "    <tr>\n",
       "      <th>85</th>\n",
       "      <td>NOR_5147_1_Domain.shpNOR_5147_1_Domain.shpNOR_...</td>\n",
       "      <td>644312.769839</td>\n",
       "      <td>405150.052482</td>\n",
       "      <td>POINT (405150.0524823068 644312.7698389563)</td>\n",
       "    </tr>\n",
       "    <tr>\n",
       "      <th>86</th>\n",
       "      <td>NOR_5147_1_Domain.shpNOR_5147_1_Domain.shpNOR_...</td>\n",
       "      <td>644310.698771</td>\n",
       "      <td>405145.052482</td>\n",
       "      <td>POINT (405145.0524823068 644310.6987711444)</td>\n",
       "    </tr>\n",
       "    <tr>\n",
       "      <th>87</th>\n",
       "      <td>NOR_5147_1_Domain.shpNOR_5147_1_Domain.shpNOR_...</td>\n",
       "      <td>644304.485568</td>\n",
       "      <td>405130.052482</td>\n",
       "      <td>POINT (405130.0524823068 644304.4855677087)</td>\n",
       "    </tr>\n",
       "    <tr>\n",
       "      <th>88</th>\n",
       "      <td>NOR_5147_1_Domain.shpNOR_5147_1_Domain.shpNOR_...</td>\n",
       "      <td>644302.414500</td>\n",
       "      <td>405125.052482</td>\n",
       "      <td>POINT (405125.0524823068 644302.4144998969)</td>\n",
       "    </tr>\n",
       "    <tr>\n",
       "      <th>89</th>\n",
       "      <td>NOR_5147_1_Domain.shpNOR_5147_1_Domain.shpNOR_...</td>\n",
       "      <td>644314.840907</td>\n",
       "      <td>405155.052482</td>\n",
       "      <td>POINT (405155.0524823068 644314.8409067681)</td>\n",
       "    </tr>\n",
       "    <tr>\n",
       "      <th>90</th>\n",
       "      <td>NOR_5147_1_Domain.shpNOR_5147_1_Domain.shpNOR_...</td>\n",
       "      <td>644309.840907</td>\n",
       "      <td>405142.981414</td>\n",
       "      <td>POINT (405142.9814144951 644309.8409067681)</td>\n",
       "    </tr>\n",
       "    <tr>\n",
       "      <th>91</th>\n",
       "      <td>NOR_5147_1_Domain.shpNOR_5147_1_Domain.shpNOR_...</td>\n",
       "      <td>644304.840907</td>\n",
       "      <td>405130.910347</td>\n",
       "      <td>POINT (405130.9103466833 644304.8409067681)</td>\n",
       "    </tr>\n",
       "    <tr>\n",
       "      <th>92</th>\n",
       "      <td>NOR_5147_1_Domain.shpNOR_5147_1_Domain.shpNOR_...</td>\n",
       "      <td>644299.814680</td>\n",
       "      <td>405118.775962</td>\n",
       "      <td>POINT (405118.775962159 644299.8146801271)</td>\n",
       "    </tr>\n",
       "    <tr>\n",
       "      <th>93</th>\n",
       "      <td>NOR_5147_1_Domain.shpNOR_5147_1_Domain.shpNOR_...</td>\n",
       "      <td>644292.732309</td>\n",
       "      <td>405098.775962</td>\n",
       "      <td>POINT (405098.775962159 644292.7323086765)</td>\n",
       "    </tr>\n",
       "    <tr>\n",
       "      <th>94</th>\n",
       "      <td>NOR_5147_1_Domain.shpNOR_5147_1_Domain.shpNOR_...</td>\n",
       "      <td>644299.814680</td>\n",
       "      <td>405118.775962</td>\n",
       "      <td>POINT (405118.775962159 644299.8146801271)</td>\n",
       "    </tr>\n",
       "    <tr>\n",
       "      <th>95</th>\n",
       "      <td>NOR_5147_1_Domain.shpNOR_5147_1_Domain.shpNOR_...</td>\n",
       "      <td>644275.555630</td>\n",
       "      <td>405044.114284</td>\n",
       "      <td>POINT (405044.1142838269 644275.5556302832)</td>\n",
       "    </tr>\n",
       "    <tr>\n",
       "      <th>96</th>\n",
       "      <td>NOR_5147_1_Domain.shpNOR_5147_1_Domain.shpNOR_...</td>\n",
       "      <td>644274.355236</td>\n",
       "      <td>405039.114284</td>\n",
       "      <td>POINT (405039.1142838269 644274.3552364878)</td>\n",
       "    </tr>\n",
       "    <tr>\n",
       "      <th>97</th>\n",
       "      <td>NOR_5147_1_Domain.shpNOR_5147_1_Domain.shpNOR_...</td>\n",
       "      <td>644273.154843</td>\n",
       "      <td>405034.114284</td>\n",
       "      <td>POINT (405034.1142838269 644273.1548426923)</td>\n",
       "    </tr>\n",
       "    <tr>\n",
       "      <th>98</th>\n",
       "      <td>NOR_5147_1_Domain.shpNOR_5147_1_Domain.shpNOR_...</td>\n",
       "      <td>644271.954449</td>\n",
       "      <td>405029.114284</td>\n",
       "      <td>POINT (405029.1142838269 644271.9544488969)</td>\n",
       "    </tr>\n",
       "    <tr>\n",
       "      <th>99</th>\n",
       "      <td>NOR_5147_1_Domain.shpNOR_5147_1_Domain.shpNOR_...</td>\n",
       "      <td>644270.754055</td>\n",
       "      <td>405024.114284</td>\n",
       "      <td>POINT (405024.1142838269 644270.7540551015)</td>\n",
       "    </tr>\n",
       "    <tr>\n",
       "      <th>100</th>\n",
       "      <td>NOR_5147_1_Domain.shpNOR_5147_1_Domain.shpNOR_...</td>\n",
       "      <td>644269.553661</td>\n",
       "      <td>405019.114284</td>\n",
       "      <td>POINT (405019.1142838269 644269.5536613062)</td>\n",
       "    </tr>\n",
       "    <tr>\n",
       "      <th>101</th>\n",
       "      <td>NOR_5147_1_Domain.shpNOR_5147_1_Domain.shpNOR_...</td>\n",
       "      <td>644268.353268</td>\n",
       "      <td>405014.114284</td>\n",
       "      <td>POINT (405014.1142838269 644268.3532675108)</td>\n",
       "    </tr>\n",
       "    <tr>\n",
       "      <th>102</th>\n",
       "      <td>NOR_5147_1_Domain.shpNOR_5147_1_Domain.shpNOR_...</td>\n",
       "      <td>644275.555630</td>\n",
       "      <td>405044.114284</td>\n",
       "      <td>POINT (405044.1142838269 644275.5556302832)</td>\n",
       "    </tr>\n",
       "  </tbody>\n",
       "</table>\n",
       "<p>383 rows × 4 columns</p>\n",
       "</div>"
      ],
      "text/plain": [
       "                                                Domain            lat  \\\n",
       "0    NOR_5072_1_Domain.shpNOR_5072_1_Domain.shpNOR_...  644932.345343   \n",
       "1    NOR_5072_1_Domain.shpNOR_5072_1_Domain.shpNOR_...  644927.076443   \n",
       "2    NOR_5072_1_Domain.shpNOR_5072_1_Domain.shpNOR_...  644933.152045   \n",
       "3    NOR_5072_1_Domain.shpNOR_5072_1_Domain.shpNOR_...  644928.152045   \n",
       "4    NOR_5072_1_Domain.shpNOR_5072_1_Domain.shpNOR_...  644919.669914   \n",
       "5    NOR_5072_1_Domain.shpNOR_5072_1_Domain.shpNOR_...  644914.925091   \n",
       "6    NOR_5072_1_Domain.shpNOR_5072_1_Domain.shpNOR_...  644910.180268   \n",
       "7    NOR_5072_1_Domain.shpNOR_5072_1_Domain.shpNOR_...  644905.435446   \n",
       "8    NOR_5072_1_Domain.shpNOR_5072_1_Domain.shpNOR_...  644900.690623   \n",
       "9    NOR_5072_1_Domain.shpNOR_5072_1_Domain.shpNOR_...  644919.669914   \n",
       "10   NOR_5072_1_Domain.shpNOR_5072_1_Domain.shpNOR_...  644914.669914   \n",
       "11   NOR_5072_1_Domain.shpNOR_5072_1_Domain.shpNOR_...  644909.669914   \n",
       "12   NOR_5072_1_Domain.shpNOR_5072_1_Domain.shpNOR_...  644904.669914   \n",
       "13   NOR_5072_1_Domain.shpNOR_5072_1_Domain.shpNOR_...  644859.669914   \n",
       "14   NOR_5072_1_Domain.shpNOR_5072_1_Domain.shpNOR_...  644854.669914   \n",
       "15   NOR_5072_1_Domain.shpNOR_5072_1_Domain.shpNOR_...  644849.669914   \n",
       "16   NOR_5072_1_Domain.shpNOR_5072_1_Domain.shpNOR_...  644844.669914   \n",
       "17   NOR_5072_1_Domain.shpNOR_5072_1_Domain.shpNOR_...  644839.669914   \n",
       "18   NOR_5072_1_Domain.shpNOR_5072_1_Domain.shpNOR_...  644834.669914   \n",
       "19   NOR_5072_1_Domain.shpNOR_5072_1_Domain.shpNOR_...  644829.669914   \n",
       "20   NOR_5072_1_Domain.shpNOR_5072_1_Domain.shpNOR_...  644824.669914   \n",
       "21   NOR_5072_1_Domain.shpNOR_5072_1_Domain.shpNOR_...  644819.669914   \n",
       "22   NOR_5072_1_Domain.shpNOR_5072_1_Domain.shpNOR_...  644814.669914   \n",
       "23   NOR_5072_1_Domain.shpNOR_5072_1_Domain.shpNOR_...  644809.669914   \n",
       "24   NOR_5072_1_Domain.shpNOR_5072_1_Domain.shpNOR_...  644804.669914   \n",
       "25   NOR_5072_1_Domain.shpNOR_5072_1_Domain.shpNOR_...  644799.669914   \n",
       "26   NOR_5072_1_Domain.shpNOR_5072_1_Domain.shpNOR_...  644794.669914   \n",
       "27   NOR_5072_1_Domain.shpNOR_5072_1_Domain.shpNOR_...  644789.669914   \n",
       "28   NOR_5072_1_Domain.shpNOR_5072_1_Domain.shpNOR_...  644784.669914   \n",
       "29   NOR_5072_1_Domain.shpNOR_5072_1_Domain.shpNOR_...  644779.669914   \n",
       "..                                                 ...            ...   \n",
       "73   NOR_5147_1_Domain.shpNOR_5147_1_Domain.shpNOR_...  644370.754055   \n",
       "74   NOR_5147_1_Domain.shpNOR_5147_1_Domain.shpNOR_...  644369.553661   \n",
       "75   NOR_5147_1_Domain.shpNOR_5147_1_Domain.shpNOR_...  644367.532492   \n",
       "76   NOR_5147_1_Domain.shpNOR_5147_1_Domain.shpNOR_...  644336.907055   \n",
       "77   NOR_5147_1_Domain.shpNOR_5147_1_Domain.shpNOR_...  644331.745107   \n",
       "78   NOR_5147_1_Domain.shpNOR_5147_1_Domain.shpNOR_...  644324.590474   \n",
       "79   NOR_5147_1_Domain.shpNOR_5147_1_Domain.shpNOR_...  644322.205596   \n",
       "80   NOR_5147_1_Domain.shpNOR_5147_1_Domain.shpNOR_...  644319.820719   \n",
       "81   NOR_5147_1_Domain.shpNOR_5147_1_Domain.shpNOR_...  644317.435841   \n",
       "82   NOR_5147_1_Domain.shpNOR_5147_1_Domain.shpNOR_...  644331.745107   \n",
       "83   NOR_5147_1_Domain.shpNOR_5147_1_Domain.shpNOR_...  644321.745107   \n",
       "84   NOR_5147_1_Domain.shpNOR_5147_1_Domain.shpNOR_...  644314.840907   \n",
       "85   NOR_5147_1_Domain.shpNOR_5147_1_Domain.shpNOR_...  644312.769839   \n",
       "86   NOR_5147_1_Domain.shpNOR_5147_1_Domain.shpNOR_...  644310.698771   \n",
       "87   NOR_5147_1_Domain.shpNOR_5147_1_Domain.shpNOR_...  644304.485568   \n",
       "88   NOR_5147_1_Domain.shpNOR_5147_1_Domain.shpNOR_...  644302.414500   \n",
       "89   NOR_5147_1_Domain.shpNOR_5147_1_Domain.shpNOR_...  644314.840907   \n",
       "90   NOR_5147_1_Domain.shpNOR_5147_1_Domain.shpNOR_...  644309.840907   \n",
       "91   NOR_5147_1_Domain.shpNOR_5147_1_Domain.shpNOR_...  644304.840907   \n",
       "92   NOR_5147_1_Domain.shpNOR_5147_1_Domain.shpNOR_...  644299.814680   \n",
       "93   NOR_5147_1_Domain.shpNOR_5147_1_Domain.shpNOR_...  644292.732309   \n",
       "94   NOR_5147_1_Domain.shpNOR_5147_1_Domain.shpNOR_...  644299.814680   \n",
       "95   NOR_5147_1_Domain.shpNOR_5147_1_Domain.shpNOR_...  644275.555630   \n",
       "96   NOR_5147_1_Domain.shpNOR_5147_1_Domain.shpNOR_...  644274.355236   \n",
       "97   NOR_5147_1_Domain.shpNOR_5147_1_Domain.shpNOR_...  644273.154843   \n",
       "98   NOR_5147_1_Domain.shpNOR_5147_1_Domain.shpNOR_...  644271.954449   \n",
       "99   NOR_5147_1_Domain.shpNOR_5147_1_Domain.shpNOR_...  644270.754055   \n",
       "100  NOR_5147_1_Domain.shpNOR_5147_1_Domain.shpNOR_...  644269.553661   \n",
       "101  NOR_5147_1_Domain.shpNOR_5147_1_Domain.shpNOR_...  644268.353268   \n",
       "102  NOR_5147_1_Domain.shpNOR_5147_1_Domain.shpNOR_...  644275.555630   \n",
       "\n",
       "               lon                                     geometry  \n",
       "0    406442.358619   POINT (406442.358619108 644932.3453433516)  \n",
       "1    406437.358619   POINT (406437.358619108 644927.0764427251)  \n",
       "2    406443.124151  POINT (406443.1241506074 644933.1520452308)  \n",
       "3    406438.379328  POINT (406438.3793277738 644928.1520452308)  \n",
       "4    406430.330086  POINT (406430.3300858899 644919.6699141101)  \n",
       "5    406425.330086  POINT (406425.3300858899 644914.9250912764)  \n",
       "6    406420.330086   POINT (406420.3300858899 644910.180268443)  \n",
       "7    406415.330086  POINT (406415.3300858899 644905.4354456093)  \n",
       "8    406410.330086  POINT (406410.3300858899 644900.6906227757)  \n",
       "9    406430.330086  POINT (406430.3300858899 644919.6699141101)  \n",
       "10   406425.061185  POINT (406425.0611852636 644914.6699141101)  \n",
       "11   406419.792285  POINT (406419.7922846372 644909.6699141101)  \n",
       "12   406414.523384  POINT (406414.5233840108 644904.6699141101)  \n",
       "13   406370.330086  POINT (406370.3300858859 644859.6699141071)  \n",
       "14   406365.330086  POINT (406365.3300858859 644854.6699141073)  \n",
       "15   406360.330086  POINT (406360.3300858859 644849.6699141073)  \n",
       "16   406355.330086  POINT (406355.3300858859 644844.6699141074)  \n",
       "17   406350.330086  POINT (406350.3300858859 644839.6699141075)  \n",
       "18   406345.330086  POINT (406345.3300858859 644834.6699141077)  \n",
       "19   406340.330086  POINT (406340.3300858859 644829.6699141078)  \n",
       "20   406335.330086  POINT (406335.3300858859 644824.6699141078)  \n",
       "21   406330.330086  POINT (406330.3300858859 644819.6699141079)  \n",
       "22   406325.330086   POINT (406325.3300858859 644814.669914108)  \n",
       "23   406320.330086  POINT (406320.3300858859 644809.6699141081)  \n",
       "24   406315.330086  POINT (406315.3300858859 644804.6699141082)  \n",
       "25   406310.330086  POINT (406310.3300858859 644799.6699141084)  \n",
       "26   406305.330086  POINT (406305.3300858859 644794.6699141084)  \n",
       "27   406300.330086  POINT (406300.3300858859 644789.6699141085)  \n",
       "28   406295.330086  POINT (406295.3300858859 644784.6699141085)  \n",
       "29   406290.330086  POINT (406290.3300858859 644779.6699141087)  \n",
       "..             ...                                          ...  \n",
       "73   405274.114284  POINT (405274.1142838269 644370.7540551015)  \n",
       "74   405269.114284  POINT (405269.1142838269 644369.5536613062)  \n",
       "75   405260.695508  POINT (405260.6955084161 644367.5324921525)  \n",
       "76   405200.000000             POINT (405200 644336.9070546706)  \n",
       "77   405190.492875  POINT (405190.4928748047 644331.7451068587)  \n",
       "78   405175.492875  POINT (405175.4928748047 644324.5904738682)  \n",
       "79   405170.492875  POINT (405170.4928748047 644322.2055962048)  \n",
       "80   405165.492875  POINT (405165.4928748047 644319.8207185413)  \n",
       "81   405160.492875  POINT (405160.4928748047 644317.4358408777)  \n",
       "82   405190.492875  POINT (405190.4928748047 644331.7451068587)  \n",
       "83   405169.527439  POINT (405169.5274388136 644321.7451068587)  \n",
       "84   405155.052482  POINT (405155.0524823068 644314.8409067681)  \n",
       "85   405150.052482  POINT (405150.0524823068 644312.7698389563)  \n",
       "86   405145.052482  POINT (405145.0524823068 644310.6987711444)  \n",
       "87   405130.052482  POINT (405130.0524823068 644304.4855677087)  \n",
       "88   405125.052482  POINT (405125.0524823068 644302.4144998969)  \n",
       "89   405155.052482  POINT (405155.0524823068 644314.8409067681)  \n",
       "90   405142.981414  POINT (405142.9814144951 644309.8409067681)  \n",
       "91   405130.910347  POINT (405130.9103466833 644304.8409067681)  \n",
       "92   405118.775962   POINT (405118.775962159 644299.8146801271)  \n",
       "93   405098.775962   POINT (405098.775962159 644292.7323086765)  \n",
       "94   405118.775962   POINT (405118.775962159 644299.8146801271)  \n",
       "95   405044.114284  POINT (405044.1142838269 644275.5556302832)  \n",
       "96   405039.114284  POINT (405039.1142838269 644274.3552364878)  \n",
       "97   405034.114284  POINT (405034.1142838269 644273.1548426923)  \n",
       "98   405029.114284  POINT (405029.1142838269 644271.9544488969)  \n",
       "99   405024.114284  POINT (405024.1142838269 644270.7540551015)  \n",
       "100  405019.114284  POINT (405019.1142838269 644269.5536613062)  \n",
       "101  405014.114284  POINT (405014.1142838269 644268.3532675108)  \n",
       "102  405044.114284  POINT (405044.1142838269 644275.5556302832)  \n",
       "\n",
       "[383 rows x 4 columns]"
      ]
     },
     "execution_count": 24,
     "metadata": {},
     "output_type": "execute_result"
    }
   ],
   "source": [
    "alldf"
   ]
  },
  {
   "cell_type": "code",
   "execution_count": null,
   "metadata": {
    "collapsed": true
   },
   "outputs": [],
   "source": [
    "from sklearn.cluster import DBSCAN\n"
   ]
  },
  {
   "cell_type": "code",
   "execution_count": 28,
   "metadata": {},
   "outputs": [
    {
     "name": "stdout",
     "output_type": "stream",
     "text": [
      "(750, 2)\n",
      "Estimated number of clusters: 3\n",
      "Homogeneity: 0.953\n",
      "Completeness: 0.883\n",
      "V-measure: 0.917\n",
      "Adjusted Rand Index: 0.952\n",
      "Adjusted Mutual Information: 0.883\n",
      "Silhouette Coefficient: 0.626\n"
     ]
    },
    {
     "data": {
      "image/png": "[encoded data removed]",
      "text/plain": [
       "<matplotlib.figure.Figure at 0x1c5ea0908>"
      ]
     },
     "metadata": {},
     "output_type": "display_data"
    }
   ],
   "source": [
    "\n",
    "import numpy as np\n",
    "\n",
    "from sklearn.cluster import DBSCAN\n",
    "from sklearn import metrics\n",
    "from sklearn.datasets.samples_generator import make_blobs\n",
    "from sklearn.preprocessing import StandardScaler\n",
    "\n",
    "\n",
    "# #############################################################################\n",
    "# Generate sample data\n",
    "centers = [[1, 1], [-1, -1], [1, -1]]\n",
    "X, labels_true = make_blobs(n_samples=750, centers=centers, cluster_std=0.4,\n",
    "                            random_state=0)\n",
    "\n",
    "print(X.shape)\n",
    "X = StandardScaler().fit_transform(X)\n",
    "\n",
    "# #############################################################################\n",
    "# Compute DBSCAN\n",
    "db = DBSCAN(eps=0.3, min_samples=10).fit(X)\n",
    "core_samples_mask = np.zeros_like(db.labels_, dtype=bool)\n",
    "core_samples_mask[db.core_sample_indices_] = True\n",
    "labels = db.labels_\n",
    "\n",
    "# Number of clusters in labels, ignoring noise if present.\n",
    "n_clusters_ = len(set(labels)) - (1 if -1 in labels else 0)\n",
    "\n",
    "print('Estimated number of clusters: %d' % n_clusters_)\n",
    "print(\"Homogeneity: %0.3f\" % metrics.homogeneity_score(labels_true, labels))\n",
    "print(\"Completeness: %0.3f\" % metrics.completeness_score(labels_true, labels))\n",
    "print(\"V-measure: %0.3f\" % metrics.v_measure_score(labels_true, labels))\n",
    "print(\"Adjusted Rand Index: %0.3f\"\n",
    "      % metrics.adjusted_rand_score(labels_true, labels))\n",
    "print(\"Adjusted Mutual Information: %0.3f\"\n",
    "      % metrics.adjusted_mutual_info_score(labels_true, labels))\n",
    "print(\"Silhouette Coefficient: %0.3f\"\n",
    "      % metrics.silhouette_score(X, labels))\n",
    "\n",
    "# #############################################################################\n",
    "# Plot result\n",
    "import matplotlib.pyplot as plt\n",
    "\n",
    "# Black removed and is used for noise instead.\n",
    "unique_labels = set(labels)\n",
    "colors = [plt.cm.Spectral(each)\n",
    "          for each in np.linspace(0, 1, len(unique_labels))]\n",
    "for k, col in zip(unique_labels, colors):\n",
    "    if k == -1:\n",
    "        # Black used for noise.\n",
    "        col = [0, 0, 0, 1]\n",
    "\n",
    "    class_member_mask = (labels == k)\n",
    "\n",
    "    xy = X[class_member_mask & core_samples_mask]\n",
    "    plt.plot(xy[:, 0], xy[:, 1], 'o', markerfacecolor=tuple(col),\n",
    "             markeredgecolor='k', markersize=14)\n",
    "\n",
    "    xy = X[class_member_mask & ~core_samples_mask]\n",
    "    plt.plot(xy[:, 0], xy[:, 1], 'o', markerfacecolor=tuple(col),\n",
    "             markeredgecolor='k', markersize=6)\n",
    "\n",
    "plt.title('Estimated number of clusters: %d' % n_clusters_)\n",
    "plt.show()"
   ]
  },
  {
   "cell_type": "code",
   "execution_count": 29,
   "metadata": {},
   "outputs": [
    {
     "data": {
      "text/plain": [
       "422868"
      ]
     },
     "execution_count": 29,
     "metadata": {},
     "output_type": "execute_result"
    }
   ],
   "source": [
    "alldf.size"
   ]
  },
  {
   "cell_type": "code",
   "execution_count": null,
   "metadata": {
    "collapsed": true
   },
   "outputs": [],
   "source": []
  }
 ],
 "metadata": {
  "kernelspec": {
   "display_name": "Python [conda env:new]",
   "language": "python",
   "name": "conda-env-new-py"
  },
  "language_info": {
   "codemirror_mode": {
    "name": "ipython",
    "version": 3
   },
   "file_extension": ".py",
   "mimetype": "text/x-python",
   "name": "python",
   "nbconvert_exporter": "python",
   "pygments_lexer": "ipython3",
   "version": "3.6.0"
  }
 },
 "nbformat": 4,
 "nbformat_minor": 2
}
